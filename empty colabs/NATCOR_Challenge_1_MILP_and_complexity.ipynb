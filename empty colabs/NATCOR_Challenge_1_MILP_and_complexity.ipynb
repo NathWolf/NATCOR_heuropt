{
  "cells": [
    {
      "cell_type": "markdown",
      "metadata": {
        "id": "view-in-github",
        "colab_type": "text"
      },
      "source": [
        "<a href=\"https://colab.research.google.com/github/NathWolf/NATCOR_heuropt/blob/main/NATCOR_Challenge_1_MILP_and_complexity.ipynb\" target=\"_parent\"><img src=\"https://colab.research.google.com/assets/colab-badge.svg\" alt=\"Open In Colab\"/></a>"
      ]
    },
    {
      "cell_type": "markdown",
      "source": [
        "# Introduction to MILP and Gurobi"
      ],
      "metadata": {
        "id": "TNT3w4VGuq3O"
      }
    },
    {
      "cell_type": "markdown",
      "source": [
        "MILP is a mathematical language for modelling optimisation problems.\n",
        "Each 'program' (or formulation) consists of a set of decision variables, constraints (equalities or inequalities) and an objective function (a formula).\n",
        "Decision variables can be continuous or integer (hence the name of the language).\n",
        "Most commonly, we use binary variables, i.e. integer variables with only two possible values: 0 and 1.\n",
        "The constraints and the objective function use decision variables in arbitrary formulas.\n",
        "However, for a program to be linear, we need to ensure that the constraints and the objective function have to be linear.\n",
        "Solvers such as CPLEX and Gurobi are primarily designed for linear programs.\n",
        "\n",
        "To develop an MILP model, you need to follow these steps:\n",
        "1. Decide on the decision variables.\n",
        " Decision variables should encode a solution to your problem.\n",
        " For the shortest path problem, the solution is a path, hence they should encode a path within the given graph.\n",
        " Once you know the values of all the decision variables, you should be able to restore the solution (the path in our example).\n",
        " Also, you should be able to encode any feasible solution to your problem with those decision variables.\n",
        "\n",
        " This is arguably the hardest part of the task.\n",
        "\n",
        "1. Define the constraints via the decision variable.\n",
        " Assuming that the decision variables that you defined in the first step are $x_1$, $x_2$, ..., $x_{100}$, the following is an example of a constraint:\n",
        " $$\n",
        " x_5 - 3 x_{12} \\le 40.\n",
        " $$\n",
        " By defining such a constraint, you request that $x_5 - 3 x_{12}$ should never exceed 40.\n",
        " Here is another example, more relevant to the shortest path problem:\n",
        " $$\n",
        " x_1 + x_2 + x_3 + x_4 + x_5 = 1.\n",
        " $$\n",
        " If the $x$-variables are binary then the above constraint requests that exactly one of the five variables has value 1 and the rest of them should have value 0.\n",
        "\n",
        "1. Define the objective.\n",
        " The objective can be to minimise something or to maximise something.\n",
        " As the shortest path problem is a minimisation problem, you will need to minimise the objective function.\n",
        " An example of an objective:\n",
        " $$\n",
        " \\text{minimise } 4 x_3 - x_{15}.\n",
        " $$\n",
        "\n",
        "Note that MILP is a declarative language; you describe the problem – not the algorithm.\n",
        "Specifically, using a mathematical language, you describe a solution (what decision variables encode it), the constraints (what makes a solution feasible) and the objective function (what needs to be minimised or maximised), and then the solver automatically does the job for you.\n",
        "This is a very powerful approach to solving optimisation problems, and this is how most of the optimisation problems are solved outside academia."
      ],
      "metadata": {
        "id": "Zd8KmG5nZGqc"
      }
    },
    {
      "cell_type": "markdown",
      "metadata": {
        "id": "i002x9a5XbWu"
      },
      "source": [
        "We will use Gurobi – the state-of-the-art mixed integer programming solver.  It is a commercial software system but it is free for a small models or academic use.  \n",
        "\n",
        "To install the Gurobi package, run the below cell."
      ]
    },
    {
      "cell_type": "code",
      "execution_count": null,
      "metadata": {
        "id": "tL6x3eQRXIKY",
        "colab": {
          "base_uri": "https://localhost:8080/"
        },
        "outputId": "e343575d-68f0-4309-8c39-40af9bda451d"
      },
      "outputs": [
        {
          "output_type": "stream",
          "name": "stdout",
          "text": [
            "Collecting gurobipy\n",
            "  Downloading gurobipy-11.0.1-cp310-cp310-manylinux2014_x86_64.manylinux_2_17_x86_64.whl (13.4 MB)\n",
            "\u001b[2K     \u001b[90m━━━━━━━━━━━━━━━━━━━━━━━━━━━━━━━━━━━━━━━━\u001b[0m \u001b[32m13.4/13.4 MB\u001b[0m \u001b[31m42.1 MB/s\u001b[0m eta \u001b[36m0:00:00\u001b[0m\n",
            "\u001b[?25hInstalling collected packages: gurobipy\n",
            "Successfully installed gurobipy-11.0.1\n"
          ]
        }
      ],
      "source": [
        "!pip install gurobipy"
      ]
    },
    {
      "cell_type": "markdown",
      "source": [
        "Below is an example of a script that creates a simple MILP model and solves it with Gurobi.  It solves the following problem: find the largest five-digit binary number with exactly two non-zero digits.  For example, $01001_2 = 9_{10}$ is a feasible solution to this problem but it is not the optimal solution.  Also, $11111_2 = 31_{10}$ is not a feasible solution as the number of non-zero digits is greater than 2.\n",
        "\n",
        "To formalise this problem, we will introduce five binary decision variables: $x_0$, $x_1$, $x_2$, $x_3$, $x_4$.  Each of them correspond to one digit in our number.  Knowing the values of these variables, we can calculate the number (let us call it $v$):\n",
        "$$\n",
        "v = 1 \\cdot x_0 + 2 \\cdot x_1 + 4 \\cdot x_2 + 8 \\cdot x_3 + 16 \\cdot x_4.\n",
        "$$\n",
        "\n",
        "We also have a constraint: the number of non-zero digits in $v$ should be exactly 2:\n",
        "$$\n",
        "x_0 + x_1 + x_2 + x_3 + x_4 = 2.\n",
        "$$\n",
        "\n",
        "Thus, our formulation of the problem is as follows:\n",
        "$$\n",
        "\\begin{align}\n",
        "& \\text{Maximise } \\sum_{i = 0}^4 2^i \\cdot x_i, \\\\\n",
        "& \\text{subject to } \\\\\n",
        "& \\qquad \\sum_{i=0}^4 x_i = 2, \\\\\n",
        "& \\qquad x_i \\in \\{ 0, 1 \\} \\qquad \\forall i \\in \\{0, 1, 2, 3, 4\\}.\n",
        "\\end{align}\n",
        "$$\n",
        "\n",
        "We can now convert this formulation into a Python script."
      ],
      "metadata": {
        "id": "x-Xx5CKVuu2q"
      }
    },
    {
      "cell_type": "code",
      "source": [
        "from gurobipy import *\n",
        "\n",
        "# Create an empty model:\n",
        "model = Model()\n",
        "\n",
        "# x is an array of five binary decision variables; during the solution process,\n",
        "# Gurobi will decide what value to assign to each of them: 0 or 1\n",
        "x = model.addVars(5, vtype=GRB.BINARY)\n",
        "\n",
        "# This constraint requests that exactly two of them should be assigned value 1:\n",
        "model.addConstr(x.sum('*') == 2)\n",
        "\n",
        "# Setting the objective:\n",
        "model.setObjective(quicksum(2**i * x[i] for i in range(5)), GRB.MAXIMIZE)\n",
        "\n",
        "# An equivalent code without a loop:\n",
        "# model.setObjective(x[0] + 2*x[1] + 4*x[2] + 8*x[3] + 16*x[4], GRB.MAXIMIZE)\n",
        "\n",
        "# Run the solver:\n",
        "model.optimize()\n",
        "\n",
        "if model.Status == GRB.OPTIMAL:  # Checking if the solver found a solution\n",
        "    # If it found a solution, print it:\n",
        "    v = 0\n",
        "    for i in range(4, -1, -1):\n",
        "        print(f'The value of x[{i}] is {x[i].X}')\n",
        "        v += 2**i * x[i].X  # Computing v\n",
        "\n",
        "    print(f'Decimal representation: {v}')\n",
        "else:\n",
        "    print('No feasible solution found')"
      ],
      "metadata": {
        "id": "ycFbLyBBu2eq"
      },
      "execution_count": null,
      "outputs": []
    },
    {
      "cell_type": "markdown",
      "source": [
        "# Task 1.1 (see the PDF for details)\n",
        "\n",
        "Please write your proof below."
      ],
      "metadata": {
        "id": "ko6iQw7Lla0j"
      }
    },
    {
      "cell_type": "markdown",
      "source": [
        "Your proof..."
      ],
      "metadata": {
        "id": "AKzBKFEjljQo"
      }
    },
    {
      "cell_type": "markdown",
      "source": [
        "# Task 1.2 (see the PDF for details)\n",
        "\n",
        "Please write your MILP formulation of the problem below.  Note that you can use LaTeX commands in Google Colab to typeset formulas."
      ],
      "metadata": {
        "id": "8VJZOefklmgC"
      }
    },
    {
      "cell_type": "markdown",
      "source": [
        "Your formulation..."
      ],
      "metadata": {
        "id": "PTxso378mBzG"
      }
    },
    {
      "cell_type": "markdown",
      "metadata": {
        "id": "emyaYclz0wGQ"
      },
      "source": [
        "# Task 1.3 (see the PDF for details)"
      ]
    },
    {
      "cell_type": "markdown",
      "source": [
        "You are provided with implementations of the `Instance` and `Solution` classes.  An `Instance` object stores all the instance data: the values $n$ and $k$ and the edge weights.  We assume that the graph is complete (every node is connected to every other node); if some edge is not available, one can set its weight to a very large number effectively eliminating it from solutions.\n",
        "\n",
        "The source node is always node 0; the destination node is always node $n - 1$.\n",
        "\n",
        "The weights are stored in a three-dimensional matrix `weights`.  The first index is the 'from node', the second index is the 'to node', and the third index is the scenario index."
      ],
      "metadata": {
        "id": "KV7htqdqr0vI"
      }
    },
    {
      "cell_type": "code",
      "execution_count": null,
      "metadata": {
        "id": "gUmGH_T_aLC8"
      },
      "outputs": [],
      "source": [
        "import numpy as np\n",
        "\n",
        "class Instance:\n",
        "    def __init__(self, n, k, seed):\n",
        "        self.n = n\n",
        "        self.k = k\n",
        "        np.random.seed = seed\n",
        "        self.weights = np.random.randint(0, 100, size=(n, n, k))\n",
        "\n",
        "        # 'Remove' loops:\n",
        "        for i in range(n):\n",
        "            self.weights[i, i, :] = 100000\n",
        "\n",
        "\n",
        "class Solution:\n",
        "    # Creates a new solution object.  'path' is a list of integers, giving\n",
        "    # the sequence of nodes in the path.\n",
        "    def __init__(self, instance, path):\n",
        "        self.instance = instance\n",
        "        self.path = path\n",
        "        assert self.is_feasible()\n",
        "\n",
        "    def is_feasible(self):\n",
        "        # A path cannot be empty:\n",
        "        if len(self.path) == 0:\n",
        "            return False\n",
        "\n",
        "        # Check the first and the last nodes:\n",
        "        if self.path[0] != 0 or self.path[-1] != self.instance.n - 1:\n",
        "            return False\n",
        "\n",
        "        # No repeatitions allowed:\n",
        "        if len(self.path) != len(set(range(len(self.path)))):\n",
        "            return False\n",
        "\n",
        "        return True\n",
        "\n",
        "    # Calculates and returns the objective value:\n",
        "    def get_objective(self):\n",
        "        return max(sum(self.instance.weights[self.path[i], self.path[i+1], l]\n",
        "                   for i in range(len(self.path) - 1))\n",
        "                for l in range(self.instance.k))\n",
        "\n",
        "    def __str__(self):\n",
        "        return ' -> '.join(str(node) for node in self.path) \\\n",
        "            + f'; objective: {self.get_objective()}'"
      ]
    },
    {
      "cell_type": "markdown",
      "source": [
        "Your main task is to implement a Gurobi-based solver for the Absolute Robust Shortest Path problem.\n",
        "\n",
        "1. Start by implementing the solver for the case of one scenario.  This is the standard shortest path problem.  _Hint:_ start by producing a formulation of the problem, similar to the formulas in the example above.  Use pen and paper.  You will need to decide how to represent a solution to the problem using decision variables.  You might be tempted to use integer variables that can can take many values but usually it is easier to use binary variables to represent solutions.  Once you know your decision variables, formulate the constraints to forbid infeasible solutions.  Then define the objective.\n",
        "\n",
        "2. Extend your implementation to the cases with multiple scenarios ($k > 1$).  Test it.\n",
        "\n",
        "3. Optional.  Can you produce 'hard instances', i.e. instances that make the solver slow?  Note that you cannot significantly increase the size of the instances because the free version of Gurobi limits the maximum size of the model (to solve large models, you would need to apply for a free academic licence)."
      ],
      "metadata": {
        "id": "dPWE-4ODsC1J"
      }
    },
    {
      "cell_type": "code",
      "source": [
        "from gurobipy import *\n",
        "\n",
        "def solve(instance):\n",
        "    model = Model()\n",
        "\n",
        "    # Create decision variables\n",
        "\n",
        "    # Define the constraints\n",
        "\n",
        "    # Set the objective\n",
        "\n",
        "    if model.Status == GRB.OPTIMAL:\n",
        "        print('Solution found')\n",
        "\n",
        "        # Extract the path from Gurobi\n",
        "        path = ...\n",
        "\n",
        "        solution = Solution(instance, path)\n",
        "        print(solution)\n",
        "    else:\n",
        "        print('No solution')"
      ],
      "metadata": {
        "id": "e9vmwxbY4jvp"
      },
      "execution_count": null,
      "outputs": []
    }
  ],
  "metadata": {
    "colab": {
      "provenance": [],
      "include_colab_link": true
    },
    "kernelspec": {
      "display_name": "Python 3",
      "name": "python3"
    },
    "language_info": {
      "name": "python"
    }
  },
  "nbformat": 4,
  "nbformat_minor": 0
}