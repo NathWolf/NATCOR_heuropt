{
  "cells": [
    {
      "cell_type": "markdown",
      "metadata": {
        "colab_type": "text",
        "id": "view-in-github"
      },
      "source": [
        "<a href=\"https://colab.research.google.com/github/NathWolf/NATCOR_heuropt/blob/main/NATCOR_Challenge_4_Spark_MLlib.ipynb\" target=\"_parent\"><img src=\"https://colab.research.google.com/assets/colab-badge.svg\" alt=\"Open In Colab\"/></a>"
      ]
    },
    {
      "cell_type": "markdown",
      "metadata": {
        "id": "oe2Z4Hgzb4LF"
      },
      "source": [
        "# Spark MLlib Tutorial and Challenge"
      ]
    },
    {
      "cell_type": "markdown",
      "metadata": {
        "id": "T1Jidp0DcNgp"
      },
      "source": [
        "This notebook is based on the resources available alongside the book:\n",
        "\n",
        "> Triguero, I., & Galar, M. (2023). **Large-Scale Data Analytics with Python and Spark: A Hands-on Guide to Implementing Machine Learning Solutions.** Cambridge: Cambridge University Press"
      ]
    },
    {
      "cell_type": "markdown",
      "metadata": {
        "id": "kPPicN8Zb-WB"
      },
      "source": [
        "The aim of this notebook is to play with the MLlib of Apache Spark to create a Machine Learning pipeline that preprocesses a dataset, trains a model and makes predictions. In particular, we are going to deal with a regression problem for energy consumption prediction. The content is very much inspired by the sample provided in the [databricks documentation](https://databricks-prod-cloudfront.cloud.databricks.com/public/4027ec902e239c93eaaa8714f173bcfc/2854662143668609/2084788691983918/6837869239396014/latest.html). Throughout this notebook you will have to complete all the steps to learn from the data, ranging from loading the data and preprocessing it to learn a model and evaluate the results. To do this, we will use MLlib pipelines.\n",
        "\n",
        "The first part of the notebook provides a Guided Tutorial, building on the MLlib example you saw in the lecture to build a pipeline and begin to investigate the data and results. There are several small tasks you will need to fill in the code for. Some parts you can complete based on the lecture example, but for others you will need to investigate the Spark SQL and MLlib documentation yourself!\n",
        "\n",
        "The second part of the notebook provides some initial ideas for improving the results further. The challenge for you is to explore some options and see if you can improve on the model from the tutorial. This may require doing some brief study of machine learning concepts if you are unfamiliar with this area, and further exploring the functions available to you in the Spark MLlib."
      ]
    },
    {
      "cell_type": "markdown",
      "metadata": {
        "id": "lDy2MXeaaGnN"
      },
      "source": [
        "# 1. Guided Tutorial"
      ]
    },
    {
      "cell_type": "markdown",
      "metadata": {
        "id": "oiGuMSqWfjyC"
      },
      "source": [
        "## Prediction of Energy Consumption of Home Appliances in a Low-Energy House"
      ]
    },
    {
      "cell_type": "markdown",
      "metadata": {
        "id": "u1fIl_OXfuyF"
      },
      "source": [
        "We are going to work with the [appliances energy prediction](http://archive.ics.uci.edu/ml/datasets/Appliances+energy+prediction) dataset from the UCI Machine Learning Repository, associated to the paper by [Candanedo et al.](https://www.sciencedirect.com/science/article/pii/S0378778816308970). The objective of this dataset is to be able to predict the energy consumption of the home appliances in a low-energy house located in Belgium. The dataset contains Energy consumption from appliances at 10 minute resolution for about 4.5 months. The house temperature and humidity conditions were monitored with a wireless sensor network. Each wireless node transmitted the temperature and humidity conditions every 3.3 minutes. Then, the wireless data was averaged for 10-minute periods to match the energy consumption data. Additionally, weather data from the nearest airport weather station (Chievres Airport, Belgium) was logged.\n",
        "\n",
        "**The task is to predict the energy consumption based on the data gathered from the wireless sensor network and the weather data.** In the original paper, they were also focused on understanding which the most relevant features were. We will also work on it.\n",
        "\n",
        "> Although we are working with time-series data, in this case and following the original work, we will treat it as a standard regression dataset, aiming to predict the energy consumption of each point in time (every 10 minutes), just by the data taken at that same time frame."
      ]
    },
    {
      "cell_type": "markdown",
      "metadata": {
        "id": "9skDC04xbu35"
      },
      "source": [
        "## Set-up"
      ]
    },
    {
      "cell_type": "markdown",
      "metadata": {
        "id": "oWd66GLhbu36",
        "nbgrader": {
          "grade": false,
          "grade_id": "cell-a106ca0b67125ec8",
          "locked": true,
          "schema_version": 3,
          "solution": false,
          "task": false
        }
      },
      "source": [
        "The first thing we need to do to start working with Spark is to initialize the `SparkSession`. We will also import a few libraries we will use."
      ]
    },
    {
      "cell_type": "code",
      "execution_count": null,
      "metadata": {
        "id": "_5x4bbutbu36"
      },
      "outputs": [
        {
          "ename": "",
          "evalue": "",
          "output_type": "error",
          "traceback": [
            "\u001b[1;31mFailed to start the Kernel. \n",
            "\u001b[1;31mSyntaxError: invalid syntax. \n",
            "\u001b[1;31mView Jupyter <a href='command:jupyter.viewOutput'>log</a> for further details."
          ]
        }
      ],
      "source": [
        "from pyspark.sql import SparkSession\n",
        "\n",
        "spark = SparkSession \\\n",
        "    .builder \\\n",
        "    .master(\"local[*]\") \\\n",
        "    .appName(\"MLlib Challenge\") \\\n",
        "    .getOrCreate()\n",
        "\n",
        "sc = spark.sparkContext"
      ]
    },
    {
      "cell_type": "code",
      "execution_count": 2,
      "metadata": {
        "id": "QAR7-iebbu37"
      },
      "outputs": [],
      "source": [
        "%matplotlib inline\n",
        "import matplotlib.pyplot as plt\n",
        "import pyspark.sql.functions as sql_f # import SQL functions\n",
        "from pyspark.sql import Row\n",
        "\n",
        "# Helper function to test the correctness of the solutions\n",
        "def test(var, val, msg=\"\"):\n",
        "    print(\"Test passed.\") if var == val else print(\"Test failed. \" + msg)"
      ]
    },
    {
      "cell_type": "markdown",
      "metadata": {
        "id": "1CPgcgu9jAlh"
      },
      "source": [
        "## Load and understand the data"
      ]
    },
    {
      "cell_type": "markdown",
      "metadata": {
        "id": "HpTS4_XolJoC"
      },
      "source": [
        "We can download the dataset and save it as `energydata_complete.csv` by running the following cell:"
      ]
    },
    {
      "cell_type": "code",
      "execution_count": 3,
      "metadata": {
        "id": "ySKTYKn_jCpo"
      },
      "outputs": [],
      "source": [
        "#run in the terminal: curl -0 https://www.cs.nott.ac.uk/~pszit/data/energydata_complete.csv"
      ]
    },
    {
      "cell_type": "markdown",
      "metadata": {
        "id": "lPAbO_Dabu37",
        "nbgrader": {
          "grade": false,
          "grade_id": "cell-8937897c4473abfa",
          "locked": true,
          "schema_version": 3,
          "solution": false,
          "task": false
        }
      },
      "source": [
        "Then we need to load the data, which is in Comma-Separated Value (CSV) format.\n",
        "\n",
        "**Task:** Use `spark.read` to read the file. You should also cache the data so that we only read it from disk once."
      ]
    },
    {
      "cell_type": "code",
      "execution_count": 4,
      "metadata": {
        "id": "wrsT4fr_bu38",
        "nbgrader": {
          "grade": false,
          "grade_id": "cell-3aadc724e217ea88",
          "locked": false,
          "schema_version": 3,
          "solution": true,
          "task": false
        }
      },
      "outputs": [
        {
          "name": "stderr",
          "output_type": "stream",
          "text": [
            "24/04/09 16:17:11 WARN SparkStringUtils: Truncated the string representation of a plan since it was too large. This behavior can be adjusted by setting 'spark.sql.debug.maxToStringFields'.\n"
          ]
        },
        {
          "data": {
            "text/plain": [
              "DataFrame[date: timestamp, Appliances: double, lights: double, T1: double, RH_1: double, T2: double, RH_2: double, T3: double, RH_3: double, T4: double, RH_4: double, T5: double, RH_5: double, T6: double, RH_6: double, T7: double, RH_7: double, T8: double, RH_8: double, T9: double, RH_9: double, T_out: double, Press_mm_hg: double, RH_out: double, Windspeed: double, Visibility: double, Tdewpoint: double, rv1: double, rv2: double]"
            ]
          },
          "execution_count": 4,
          "metadata": {},
          "output_type": "execute_result"
        }
      ],
      "source": [
        "#! Generate a df_origal that is not modified throughout the notebook  \n",
        "\n",
        "# Create the dataframe\n",
        "#create a df using spark.read.csv\n",
        "df = spark.read.csv(\"energydata_complete.csv\", header=True, inferSchema=True)\n",
        "\n",
        "# Cache your DataFrame\n",
        "df.cache()"
      ]
    },
    {
      "cell_type": "code",
      "execution_count": 5,
      "metadata": {
        "id": "O6IhsXj0bu38",
        "nbgrader": {
          "grade": true,
          "grade_id": "cell-28b65c981c65a16d",
          "locked": true,
          "points": 0,
          "schema_version": 3,
          "solution": false,
          "task": false
        }
      },
      "outputs": [
        {
          "name": "stderr",
          "output_type": "stream",
          "text": [
            "[Stage 3:>                                                          (0 + 3) / 3]\r"
          ]
        },
        {
          "name": "stdout",
          "output_type": "stream",
          "text": [
            "Test passed.\n",
            "Test passed.\n"
          ]
        },
        {
          "name": "stderr",
          "output_type": "stream",
          "text": [
            "                                                                                \r"
          ]
        }
      ],
      "source": [
        "test(df.count(), 19735, 'Incorrect number of rows')\n",
        "test(df.is_cached, True, 'df not cached')"
      ]
    },
    {
      "cell_type": "code",
      "execution_count": 21,
      "metadata": {},
      "outputs": [
        {
          "name": "stdout",
          "output_type": "stream",
          "text": [
            "Number of columns:  32\n",
            "Number of rows:  19735\n"
          ]
        }
      ],
      "source": [
        "# Count number of columns\n",
        "print(\"Number of columns: \", len(df.columns))\n",
        "# Count number of rows\n",
        "print(\"Number of rows: \", df.count())"
      ]
    },
    {
      "cell_type": "markdown",
      "metadata": {
        "id": "dRtxruuibu39"
      },
      "source": [
        "**Task:** Use an appropriate method to check what columns we have in the data."
      ]
    },
    {
      "cell_type": "code",
      "execution_count": 27,
      "metadata": {
        "id": "OSBnpvZJbu39",
        "nbgrader": {
          "grade": false,
          "grade_id": "cell-c4b1a185e62db951",
          "locked": false,
          "schema_version": 3,
          "solution": true,
          "task": false
        }
      },
      "outputs": [
        {
          "name": "stdout",
          "output_type": "stream",
          "text": [
            "root\n",
            " |-- date: timestamp (nullable = true)\n",
            " |-- Appliances: double (nullable = true)\n",
            " |-- lights: double (nullable = true)\n",
            " |-- T1: double (nullable = true)\n",
            " |-- RH_1: double (nullable = true)\n",
            " |-- T2: double (nullable = true)\n",
            " |-- RH_2: double (nullable = true)\n",
            " |-- T3: double (nullable = true)\n",
            " |-- RH_3: double (nullable = true)\n",
            " |-- T4: double (nullable = true)\n",
            " |-- RH_4: double (nullable = true)\n",
            " |-- T5: double (nullable = true)\n",
            " |-- RH_5: double (nullable = true)\n",
            " |-- T6: double (nullable = true)\n",
            " |-- RH_6: double (nullable = true)\n",
            " |-- T7: double (nullable = true)\n",
            " |-- RH_7: double (nullable = true)\n",
            " |-- T8: double (nullable = true)\n",
            " |-- RH_8: double (nullable = true)\n",
            " |-- T9: double (nullable = true)\n",
            " |-- RH_9: double (nullable = true)\n",
            " |-- T_out: double (nullable = true)\n",
            " |-- Press_mm_hg: double (nullable = true)\n",
            " |-- RH_out: double (nullable = true)\n",
            " |-- Windspeed: double (nullable = true)\n",
            " |-- Visibility: double (nullable = true)\n",
            " |-- Tdewpoint: double (nullable = true)\n",
            " |-- rv1: double (nullable = true)\n",
            " |-- rv2: double (nullable = true)\n",
            " |-- dayofyear: integer (nullable = true)\n",
            " |-- hour: integer (nullable = true)\n",
            " |-- month: integer (nullable = true)\n",
            "\n"
          ]
        },
        {
          "name": "stderr",
          "output_type": "stream",
          "text": [
            "                                                                                \r"
          ]
        },
        {
          "name": "stdout",
          "output_type": "stream",
          "text": [
            "+-------+------------------+------------------+------------------+------------------+------------------+------------------+------------------+------------------+------------------+------------------+------------------+-----------------+-----------------+------------------+------------------+-----------------+------------------+-----------------+------------------+-----------------+-----------------+-----------------+-----------------+------------------+------------------+-----------------+--------------------+--------------------+-----------------+------------------+-----------------+\n",
            "|summary|        Appliances|            lights|                T1|              RH_1|                T2|              RH_2|                T3|              RH_3|                T4|              RH_4|                T5|             RH_5|               T6|              RH_6|                T7|             RH_7|                T8|             RH_8|                T9|             RH_9|            T_out|      Press_mm_hg|           RH_out|         Windspeed|        Visibility|        Tdewpoint|                 rv1|                 rv2|        dayofyear|              hour|            month|\n",
            "+-------+------------------+------------------+------------------+------------------+------------------+------------------+------------------+------------------+------------------+------------------+------------------+-----------------+-----------------+------------------+------------------+-----------------+------------------+-----------------+------------------+-----------------+-----------------+-----------------+-----------------+------------------+------------------+-----------------+--------------------+--------------------+-----------------+------------------+-----------------+\n",
            "|  count|             19735|             19735|             19735|             19735|             19735|             19735|             19735|             19735|             19735|             19735|             19735|            19735|            19735|             19735|             19735|            19735|             19735|            19735|             19735|            19735|            19735|            19735|            19735|             19735|             19735|            19735|               19735|               19735|            19735|             19735|            19735|\n",
            "|   mean|  97.6949581960983|3.8018748416518875|  21.6865713867476|40.259739279782615|20.341219463847764| 40.42042041370509|22.267610984879283| 39.24250007720552|20.855334722409452|39.026903788144004| 19.59210632801692|50.94928262962163|7.910939332403414| 54.60908338758282|20.267106470135182|35.38820021508384|22.029106722979385|42.93616537238754|19.485828160608055|41.55240075337514|  7.4116645553585|755.5226019761805|79.75041803901696|4.0397517101596145| 38.33083354446415|3.760706865974154|  24.988033485049435|  24.988033485049435|79.73255637192804|11.502305548517862|3.101646820369901|\n",
            "| stddev|102.52489053740626| 7.935987600215891|1.6060656448139632|3.9792988304355705|2.1929735335219793|4.0698125404496786|2.0061105361434692|3.2545764926203433| 2.042884476985451| 4.341320653139019|1.8446232735006012|9.022034306523487|6.090346609884247|31.149805875511536| 2.109993324051811|5.114208029896677|1.9561617218042116|5.224360679597475|2.0147123860745073|4.151497323850462|5.317408805653691|7.399440659853615|14.90108755752693|2.4512206057343104|11.794718757368106|4.194647835033513|  14.496633860415859|  14.496633860415859|39.56494330402364| 6.921513563521361|1.339200437883551|\n",
            "|    min|              10.0|               0.0|             16.79|  27.0233333333333|              16.1|  20.4633333333333|              17.2|  28.7666666666667|              15.1|             27.66|             15.33|           29.815|           -6.065|               1.0|             15.39|             23.2|  16.3066666666667|             29.6|             14.89| 29.1666666666667|             -5.0|            729.3|             24.0|               0.0|               1.0|             -6.6|0.005321681965142...|0.005321681965142...|               11|                 0|                1|\n",
            "|    max|            1080.0|              70.0|             26.26|             63.36|  29.8566666666667|  56.0266666666667|            29.236|  50.1633333333333|              26.2|             51.09|            25.795| 96.3216666666667|            28.29|              99.9|              26.0|             51.4|             27.23|            58.78|              24.5| 53.3266666666667|             26.1|            772.3|            100.0|              14.0|              66.0|             15.5|    49.9965296825394|    49.9965296825394|              148|                23|                5|\n",
            "+-------+------------------+------------------+------------------+------------------+------------------+------------------+------------------+------------------+------------------+------------------+------------------+-----------------+-----------------+------------------+------------------+-----------------+------------------+-----------------+------------------+-----------------+-----------------+-----------------+-----------------+------------------+------------------+-----------------+--------------------+--------------------+-----------------+------------------+-----------------+\n",
            "\n",
            "{'date': 0, 'Appliances': 0, 'lights': 0, 'T1': 0, 'RH_1': 0, 'T2': 0, 'RH_2': 0, 'T3': 0, 'RH_3': 0, 'T4': 0, 'RH_4': 0, 'T5': 0, 'RH_5': 0, 'T6': 0, 'RH_6': 0, 'T7': 0, 'RH_7': 0, 'T8': 0, 'RH_8': 0, 'T9': 0, 'RH_9': 0, 'T_out': 0, 'Press_mm_hg': 0, 'RH_out': 0, 'Windspeed': 0, 'Visibility': 0, 'Tdewpoint': 0, 'rv1': 0, 'rv2': 0, 'dayofyear': 0, 'hour': 0, 'month': 0}\n"
          ]
        }
      ],
      "source": [
        "# Inspect the dataframe: check columns, schema, summary statistics, nulls, etc.\n",
        "df.printSchema()\n",
        "df.describe().show()\n",
        "Dict_Null = {col:df.filter(df[col].isNull()).count() for col in df.columns}\n",
        "print(Dict_Null)"
      ]
    },
    {
      "cell_type": "markdown",
      "metadata": {
        "id": "tvF1USdubu39",
        "nbgrader": {
          "grade": false,
          "grade_id": "cell-c8a8f77c243d18c0",
          "locked": true,
          "schema_version": 3,
          "solution": false,
          "task": false
        }
      },
      "source": [
        "**Data description**\n",
        "\n",
        "From the UCI repository description, we know that the columns have the following meanings:\n",
        "\n",
        "**Attribute information**:\n",
        "```\n",
        "date: time year-month-day hour:minute:second\n",
        "Appliances: energy use in Wh\n",
        "lights: energy use of light fixtures in the house in Wh\n",
        "T1: Temperature in kitchen area, in Celsius\n",
        "RH_1: Humidity in kitchen area, in %\n",
        "T2: Temperature in living room area, in Celsius\n",
        "RH_2: Humidity in living room area, in %\n",
        "T3: Temperature in laundry room area\n",
        "RH_3: Humidity in laundry room area, in %\n",
        "T4: Temperature in office room, in Celsius\n",
        "RH_4: Humidity in office room, in %\n",
        "T5: Temperature in bathroom, in Celsius\n",
        "RH_5: Humidity in bathroom, in %\n",
        "T6: Temperature outside the building (north side), in Celsius\n",
        "RH_6: Humidity outside the building (north side), in %\n",
        "T7: Temperature in ironing room , in Celsius\n",
        "RH_7: Humidity in ironing room, in %\n",
        "T8: Temperature in teenager room 2, in Celsius\n",
        "RH_8: Humidity in teenager room 2, in %\n",
        "T9: Temperature in parents room, in Celsius\n",
        "RH_9: Humidity in parents room, in %\n",
        "To: Temperature outside (from Chievres weather station), in Celsius\n",
        "Pressure: (from Chievres weather station), in mm Hg\n",
        "RH_out: Humidity outside (from Chievres weather station), in %\n",
        "Wind speed: (from Chievres weather station), in m/s\n",
        "Visibility: (from Chievres weather station), in km\n",
        "Tdewpoint: (from Chievres weather station), Â°C\n",
        "rv1: Random variable 1, nondimensional\n",
        "rv2: Random variable 2, nondimensional\n",
        "```\n",
        "\n",
        "**The target variable is the energy use of the Appliances.**\n",
        "\n",
        "For now, we will leave the two variables `rv1` and `rv2` in our dataset, to see if they are affecting our methods much, then we can try to remove them and see if we improve the results."
      ]
    },
    {
      "cell_type": "markdown",
      "metadata": {
        "id": "Yi0J7B94bu3-",
        "nbgrader": {
          "grade": false,
          "grade_id": "cell-5c3b6f3c781e12af",
          "locked": true,
          "schema_version": 3,
          "solution": false,
          "task": false
        }
      },
      "source": [
        "**Task:** Use `show` to visualize the data. Be careful not to show the entire data frame, only 5 rows!"
      ]
    },
    {
      "cell_type": "code",
      "execution_count": 7,
      "metadata": {
        "id": "tLLpFvNWbu3-",
        "nbgrader": {
          "grade": false,
          "grade_id": "cell-0bc3c84df797cc37",
          "locked": false,
          "schema_version": 3,
          "solution": true,
          "task": false
        }
      },
      "outputs": [
        {
          "name": "stdout",
          "output_type": "stream",
          "text": [
            "+-------------------+----------+------+-----+----------------+----+----------------+-----+----------------+----------------+----------------+----------------+-----+----------------+----------------+----------------+----------------+----+----------------+----------------+-----+----------------+-----------+------+----------------+----------------+---------+------------------+------------------+\n",
            "|               date|Appliances|lights|   T1|            RH_1|  T2|            RH_2|   T3|            RH_3|              T4|            RH_4|              T5| RH_5|              T6|            RH_6|              T7|            RH_7|  T8|            RH_8|              T9| RH_9|           T_out|Press_mm_hg|RH_out|       Windspeed|      Visibility|Tdewpoint|               rv1|               rv2|\n",
            "+-------------------+----------+------+-----+----------------+----+----------------+-----+----------------+----------------+----------------+----------------+-----+----------------+----------------+----------------+----------------+----+----------------+----------------+-----+----------------+-----------+------+----------------+----------------+---------+------------------+------------------+\n",
            "|2016-01-11 17:00:00|      60.0|  30.0|19.89|47.5966666666667|19.2|           44.79|19.79|           44.73|            19.0|45.5666666666667|17.1666666666667| 55.2|7.02666666666667|84.2566666666667|            17.2|41.6266666666667|18.2|            48.9|17.0333333333333|45.53|             6.6|      733.5|  92.0|             7.0|            63.0|      5.3|13.275433157104999|13.275433157104999|\n",
            "|2016-01-11 17:10:00|      60.0|  30.0|19.89|46.6933333333333|19.2|         44.7225|19.79|           44.79|            19.0|         45.9925|17.1666666666667| 55.2|6.83333333333333|84.0633333333333|            17.2|           41.56|18.2|48.8633333333333|17.0666666666667|45.56|6.48333333333333|      733.6|  92.0|6.66666666666667|59.1666666666667|      5.2|18.606194981839508|18.606194981839508|\n",
            "|2016-01-11 17:20:00|      50.0|  30.0|19.89|            46.3|19.2|44.6266666666667|19.79|44.9333333333333|18.9266666666667|           45.89|17.1666666666667|55.09|            6.56|83.1566666666667|            17.2|41.4333333333333|18.2|           48.73|            17.0| 45.5|6.36666666666667|      733.7|  92.0|6.33333333333333|55.3333333333333|      5.1| 28.64266816759482| 28.64266816759482|\n",
            "|2016-01-11 17:30:00|      50.0|  40.0|19.89|46.0666666666667|19.2|           44.59|19.79|            45.0|           18.89|45.7233333333333|17.1666666666667|55.09|6.43333333333333|83.4233333333333|17.1333333333333|           41.29|18.1|           48.59|            17.0| 45.4|            6.25|      733.8|  92.0|             6.0|            51.5|      5.0| 45.41038949973881| 45.41038949973881|\n",
            "|2016-01-11 17:40:00|      60.0|  40.0|19.89|46.3333333333333|19.2|           44.53|19.79|            45.0|           18.89|           45.53|            17.2|55.09|6.36666666666667|84.8933333333333|            17.2|           41.23|18.1|           48.59|            17.0| 45.4|6.13333333333333|      733.9|  92.0|5.66666666666667|47.6666666666667|      4.9| 10.08409655187279| 10.08409655187279|\n",
            "+-------------------+----------+------+-----+----------------+----+----------------+-----+----------------+----------------+----------------+----------------+-----+----------------+----------------+----------------+----------------+----+----------------+----------------+-----+----------------+-----------+------+----------------+----------------+---------+------------------+------------------+\n",
            "only showing top 5 rows\n",
            "\n"
          ]
        }
      ],
      "source": [
        "df.show(5)"
      ]
    },
    {
      "cell_type": "markdown",
      "metadata": {
        "id": "ELCI5rjnbu3-",
        "nbgrader": {
          "grade": false,
          "grade_id": "cell-6a7113523db1a125",
          "locked": true,
          "schema_version": 3,
          "solution": false,
          "task": false
        }
      },
      "source": [
        "## Data preprocessing"
      ]
    },
    {
      "cell_type": "markdown",
      "metadata": {
        "id": "_-DFMYt0bu3-",
        "nbgrader": {
          "grade": false,
          "grade_id": "cell-74870c89983edfb6",
          "locked": true,
          "schema_version": 3,
          "solution": false,
          "task": false
        }
      },
      "source": [
        "This dataset is nicely prepared for Machine Learning and required very little preprocessing. However, rather than keeping the date as a timestamp, we would like to have some additional columns, including 'day of the year', 'hour', and 'month of the year'.\n",
        "\n",
        "**Task:** Use `.withColumn()` and other appropriate functions to add the three additional columns. Please use the naming `dayofyear`, `hour` and `month`, respectively.\n",
        "\n",
        "*Hint: Of course the SparkSQL library has functions to transform strings with datetime! You may find the [documentation](https://spark.apache.org/docs/3.1.2/api/python/reference/pyspark.sql.html#functions) useful to explore to find specific functions.*\n",
        "\n",
        "Would you like to have any other information from the datetime? Feel free to add other features."
      ]
    },
    {
      "cell_type": "code",
      "execution_count": 35,
      "metadata": {
        "id": "ONz81koabu3-",
        "nbgrader": {
          "grade": false,
          "grade_id": "cell-1f648a6d01eb2952",
          "locked": false,
          "schema_version": 3,
          "solution": true,
          "task": false
        }
      },
      "outputs": [],
      "source": [
        "from pyspark.sql.functions import col, to_timestamp, dayofyear, hour, month, date_format\n",
        "\n",
        "# Cast the 'date' column to a timestamp type\n",
        "df = df.withColumn('date', to_timestamp(col('date'), 'yyyy-MM-dd HH:mm:ss'))\n",
        "df = df.withColumn(\"date\", date_format(\"date\", \"yyyy-MM-dd HH:mm:ss\"))\n",
        "\n",
        "# Recalculate the columns based on the 'date' column\n",
        "df = df.withColumn(\"dayofyear\", dayofyear(col('date')))\n",
        "df = df.withColumn(\"hour\", hour(col('date')))\n",
        "df = df.withColumn(\"month\", month(col('date')))"
      ]
    },
    {
      "cell_type": "code",
      "execution_count": 36,
      "metadata": {},
      "outputs": [
        {
          "name": "stdout",
          "output_type": "stream",
          "text": [
            "+-------------------+---------+----+-----+\n",
            "|               date|dayofyear|hour|month|\n",
            "+-------------------+---------+----+-----+\n",
            "|2016-01-11 17:00:00|       11|  17|    1|\n",
            "|2016-01-11 17:10:00|       11|  17|    1|\n",
            "|2016-01-11 17:20:00|       11|  17|    1|\n",
            "|2016-01-11 17:30:00|       11|  17|    1|\n",
            "|2016-01-11 17:40:00|       11|  17|    1|\n",
            "+-------------------+---------+----+-----+\n",
            "only showing top 5 rows\n",
            "\n"
          ]
        },
        {
          "data": {
            "text/plain": [
              "Row(dayofyear=11, hour=17, month=1, date='2016-01-11 17:00:00')"
            ]
          },
          "execution_count": 36,
          "metadata": {},
          "output_type": "execute_result"
        }
      ],
      "source": [
        "# Print the head of the columns 'date', 'dayofyear', 'hour', 'month'\n",
        "df.select('date', 'dayofyear', 'hour', 'month').show(5)\n",
        "df.select('dayofyear', 'hour', 'month', 'date').first()"
      ]
    },
    {
      "cell_type": "code",
      "execution_count": 37,
      "metadata": {
        "id": "5pCtcG6wbu3-",
        "nbgrader": {
          "grade": true,
          "grade_id": "cell-97f185889dd05c76",
          "locked": true,
          "points": 0,
          "schema_version": 3,
          "solution": false,
          "task": false
        }
      },
      "outputs": [
        {
          "name": "stdout",
          "output_type": "stream",
          "text": [
            "Test passed.\n",
            "Test passed.\n",
            "Test passed.\n",
            "Test passed.\n"
          ]
        }
      ],
      "source": [
        "test(\"hour\" in df.columns, True, \"The hour hasn't been added\")\n",
        "test(\"dayofyear\" in df.columns, True, \"The dayofyear hasn't been added\")\n",
        "test(\"month\" in df.columns, True, \"The month hasn't been added\")\n",
        "test(df.select('dayofyear', 'hour', 'month', 'date').first(), (11, 17, 1, '2016-01-11 17:00:00'))"
      ]
    },
    {
      "cell_type": "markdown",
      "metadata": {
        "id": "7OrBNBODbu3-",
        "nbgrader": {
          "grade": false,
          "grade_id": "cell-2561535e29742ef2",
          "locked": true,
          "schema_version": 3,
          "solution": false,
          "task": false
        }
      },
      "source": [
        "**Task:** When your dataframe `df` has the additional columns, please remove the column `date`:"
      ]
    },
    {
      "cell_type": "code",
      "execution_count": 38,
      "metadata": {
        "id": "ihmcWyfabu3_",
        "nbgrader": {
          "grade": false,
          "grade_id": "cell-96bed972cec4c7a1",
          "locked": false,
          "schema_version": 3,
          "solution": true,
          "task": false
        }
      },
      "outputs": [],
      "source": [
        "# Remove column data from the dataframe\n",
        "df = df.drop(\"date\")"
      ]
    },
    {
      "cell_type": "code",
      "execution_count": 39,
      "metadata": {
        "id": "sInkAQDybu3_",
        "nbgrader": {
          "grade": true,
          "grade_id": "cell-78b3ae64d5564833",
          "locked": true,
          "points": 0,
          "schema_version": 3,
          "solution": false,
          "task": false
        }
      },
      "outputs": [
        {
          "name": "stdout",
          "output_type": "stream",
          "text": [
            "Test passed.\n"
          ]
        }
      ],
      "source": [
        "test(\"date\" in df.columns, False, \"Column date has not been removed!\")"
      ]
    },
    {
      "cell_type": "markdown",
      "metadata": {
        "id": "5d_sxrrHbu3_",
        "nbgrader": {
          "grade": false,
          "grade_id": "cell-2e4f9de42e7d939c",
          "locked": true,
          "schema_version": 3,
          "solution": false,
          "task": false
        }
      },
      "source": [
        "Let's look again at the schema of the dataframe:"
      ]
    },
    {
      "cell_type": "code",
      "execution_count": 40,
      "metadata": {
        "id": "tlLh2eSgbu3_",
        "nbgrader": {
          "grade": false,
          "grade_id": "cell-f5ee1e564ac14dff",
          "locked": false,
          "schema_version": 3,
          "solution": true,
          "task": false
        }
      },
      "outputs": [
        {
          "name": "stdout",
          "output_type": "stream",
          "text": [
            "root\n",
            " |-- Appliances: double (nullable = true)\n",
            " |-- lights: double (nullable = true)\n",
            " |-- T1: double (nullable = true)\n",
            " |-- RH_1: double (nullable = true)\n",
            " |-- T2: double (nullable = true)\n",
            " |-- RH_2: double (nullable = true)\n",
            " |-- T3: double (nullable = true)\n",
            " |-- RH_3: double (nullable = true)\n",
            " |-- T4: double (nullable = true)\n",
            " |-- RH_4: double (nullable = true)\n",
            " |-- T5: double (nullable = true)\n",
            " |-- RH_5: double (nullable = true)\n",
            " |-- T6: double (nullable = true)\n",
            " |-- RH_6: double (nullable = true)\n",
            " |-- T7: double (nullable = true)\n",
            " |-- RH_7: double (nullable = true)\n",
            " |-- T8: double (nullable = true)\n",
            " |-- RH_8: double (nullable = true)\n",
            " |-- T9: double (nullable = true)\n",
            " |-- RH_9: double (nullable = true)\n",
            " |-- T_out: double (nullable = true)\n",
            " |-- Press_mm_hg: double (nullable = true)\n",
            " |-- RH_out: double (nullable = true)\n",
            " |-- Windspeed: double (nullable = true)\n",
            " |-- Visibility: double (nullable = true)\n",
            " |-- Tdewpoint: double (nullable = true)\n",
            " |-- rv1: double (nullable = true)\n",
            " |-- rv2: double (nullable = true)\n",
            " |-- dayofyear: integer (nullable = true)\n",
            " |-- hour: integer (nullable = true)\n",
            " |-- month: integer (nullable = true)\n",
            "\n"
          ]
        }
      ],
      "source": [
        "df.printSchema()"
      ]
    },
    {
      "cell_type": "markdown",
      "metadata": {
        "id": "gCmCbXkvbu3_",
        "nbgrader": {
          "grade": false,
          "grade_id": "cell-6bb2857862d64352",
          "locked": true,
          "schema_version": 3,
          "solution": false,
          "task": false
        }
      },
      "source": [
        "Oh, no! All the input features have been inferred as strings rather than numeric values.\n",
        "\n",
        "**Task:** Transform that into numerical values. All of the features are actually numeric, so you could cast all of them. You are recommended to use functions like `cast` and `col` to do this. You could try to leave out the datetime columns we created, but it's fine if you transform them to float."
      ]
    },
    {
      "cell_type": "code",
      "execution_count": 47,
      "metadata": {
        "id": "JquOK1Aybu3_",
        "nbgrader": {
          "grade": false,
          "grade_id": "cell-f72f135db795ec70",
          "locked": false,
          "schema_version": 3,
          "solution": true,
          "task": false
        }
      },
      "outputs": [],
      "source": [
        "# Change the column type from string to numeric\n",
        "from pyspark.sql.types import FloatType\n",
        "\n",
        "for col in df.columns:\n",
        "    if col != 'date':\n",
        "        df = df.withColumn(col, df[col].cast(FloatType()))"
      ]
    },
    {
      "cell_type": "code",
      "execution_count": 48,
      "metadata": {
        "id": "vNSozoCabu3_",
        "nbgrader": {
          "grade": false,
          "grade_id": "cell-6291c14f0a17fcf0",
          "locked": false,
          "schema_version": 3,
          "solution": true,
          "task": false
        }
      },
      "outputs": [
        {
          "name": "stdout",
          "output_type": "stream",
          "text": [
            "root\n",
            " |-- Appliances: float (nullable = true)\n",
            " |-- lights: float (nullable = true)\n",
            " |-- T1: float (nullable = true)\n",
            " |-- RH_1: float (nullable = true)\n",
            " |-- T2: float (nullable = true)\n",
            " |-- RH_2: float (nullable = true)\n",
            " |-- T3: float (nullable = true)\n",
            " |-- RH_3: float (nullable = true)\n",
            " |-- T4: float (nullable = true)\n",
            " |-- RH_4: float (nullable = true)\n",
            " |-- T5: float (nullable = true)\n",
            " |-- RH_5: float (nullable = true)\n",
            " |-- T6: float (nullable = true)\n",
            " |-- RH_6: float (nullable = true)\n",
            " |-- T7: float (nullable = true)\n",
            " |-- RH_7: float (nullable = true)\n",
            " |-- T8: float (nullable = true)\n",
            " |-- RH_8: float (nullable = true)\n",
            " |-- T9: float (nullable = true)\n",
            " |-- RH_9: float (nullable = true)\n",
            " |-- T_out: float (nullable = true)\n",
            " |-- Press_mm_hg: float (nullable = true)\n",
            " |-- RH_out: float (nullable = true)\n",
            " |-- Windspeed: float (nullable = true)\n",
            " |-- Visibility: float (nullable = true)\n",
            " |-- Tdewpoint: float (nullable = true)\n",
            " |-- rv1: float (nullable = true)\n",
            " |-- rv2: float (nullable = true)\n",
            " |-- dayofyear: float (nullable = true)\n",
            " |-- hour: float (nullable = true)\n",
            " |-- month: float (nullable = true)\n",
            "\n"
          ]
        }
      ],
      "source": [
        "# Print the schema again.\n",
        "df.printSchema()"
      ]
    },
    {
      "cell_type": "code",
      "execution_count": 49,
      "metadata": {
        "id": "SB9BI3oLbu3_",
        "nbgrader": {
          "grade": true,
          "grade_id": "cell-0892fea0abdd7b6b",
          "locked": true,
          "points": 0,
          "schema_version": 3,
          "solution": false,
          "task": false
        }
      },
      "outputs": [
        {
          "name": "stdout",
          "output_type": "stream",
          "text": [
            "Test passed.\n",
            "Test passed.\n",
            "Test passed.\n",
            "Test passed.\n",
            "Test passed.\n",
            "Test passed.\n",
            "Test passed.\n",
            "Test passed.\n",
            "Test passed.\n",
            "Test passed.\n",
            "Test passed.\n",
            "Test passed.\n",
            "Test passed.\n",
            "Test passed.\n",
            "Test passed.\n",
            "Test passed.\n",
            "Test passed.\n",
            "Test passed.\n",
            "Test passed.\n",
            "Test passed.\n",
            "Test passed.\n",
            "Test passed.\n",
            "Test passed.\n",
            "Test passed.\n",
            "Test passed.\n",
            "Test passed.\n",
            "Test passed.\n",
            "Test passed.\n"
          ]
        }
      ],
      "source": [
        "from pyspark.sql.types import FloatType\n",
        "for c in df.columns:\n",
        "    if c not in ['dayofyear', 'month', 'hour']:\n",
        "        test(df.schema[c].dataType, FloatType(), 'Incorrect data type for ' + c)"
      ]
    },
    {
      "cell_type": "markdown",
      "metadata": {
        "id": "IyFoO8pHbu3_",
        "nbgrader": {
          "grade": false,
          "grade_id": "cell-c937a928bbbec3d7",
          "locked": true,
          "schema_version": 3,
          "solution": false,
          "task": false
        }
      },
      "source": [
        "## Split data into training and test sets"
      ]
    },
    {
      "cell_type": "markdown",
      "metadata": {
        "id": "W8bmw-3XRv37"
      },
      "source": [
        "As a simple means to validate the results of the model we are going to build, we split the dataset into training and test sets. We will train and tune our model on the training set, and then see how well we do in the test.\n",
        "\n",
        "> Although in some time-series problems it is key to perform the appropriate train-test split considering the temporal component (e.g., [TimeSeriesSplit from scikit-learn](https://scikit-learn.org/stable/modules/generated/sklearn.model_selection.TimeSeriesSplit.html#sklearn.model_selection.TimeSeriesSplit), in our case we follow the procedure of the original paper where the interest lies in working with each data point independently, and hence, we can proceed with a standard random split."
      ]
    },
    {
      "cell_type": "markdown",
      "metadata": {
        "id": "X35iPWyIbu3_",
        "nbgrader": {
          "grade": false,
          "grade_id": "cell-557ed884643dbca0",
          "locked": true,
          "schema_version": 3,
          "solution": false,
          "task": false
        }
      },
      "source": [
        "**Task:** Split the dataframe `df` into 70% for training (`df_train`) and 30% for test (`df_test`). You should fix a random seed."
      ]
    },
    {
      "cell_type": "code",
      "execution_count": 50,
      "metadata": {
        "id": "7Wcl8STsbu3_",
        "nbgrader": {
          "grade": false,
          "grade_id": "cell-56849a52128319c8",
          "locked": false,
          "schema_version": 3,
          "solution": true,
          "task": false
        }
      },
      "outputs": [],
      "source": [
        "# Fix a random seed for reproducibility\n",
        "seed = 42 # the secret of the universe\n",
        "\n",
        "# Split the data into training and test sets (70% training, 30% test)\n",
        "df_train, df_test = df.randomSplit([0.7, 0.3], seed=seed)"
      ]
    },
    {
      "cell_type": "markdown",
      "metadata": {
        "id": "oHxicBKwbu4A",
        "nbgrader": {
          "grade": false,
          "grade_id": "cell-1fb4a0da2280473a",
          "locked": true,
          "schema_version": 3,
          "solution": false,
          "task": false
        }
      },
      "source": [
        "> Even though we have fixed the random seed, you will not always get the exact same split. Different computers with different operating systems may provide different splits with Spark."
      ]
    },
    {
      "cell_type": "markdown",
      "metadata": {
        "id": "_MBPQHZTbu4A",
        "nbgrader": {
          "grade": false,
          "grade_id": "cell-d4c519e050e792fd",
          "locked": true,
          "schema_version": 3,
          "solution": false,
          "task": false
        }
      },
      "source": [
        "Note that this is the simplest way of validating your results. You may want to carry out a [k-fold cross validation](https://en.wikipedia.org/wiki/Cross-validation_(statistics)) and split the dataset into *k* folds, and build and test *k* models. We will do later cross validation but for parameter tuning! Not to validate our approach!"
      ]
    },
    {
      "cell_type": "markdown",
      "metadata": {
        "id": "uWf2mqKCbu4A",
        "nbgrader": {
          "grade": false,
          "grade_id": "cell-254b4625d65edbab",
          "locked": true,
          "schema_version": 3,
          "solution": false,
          "task": false
        }
      },
      "source": [
        "## Data visualisation\n",
        "\n",
        "Before applying any machine learning algorithm, it is a good practice to try to visualise your data. For example, we could see how much energy is spent in appliances depending on the month.\n",
        "\n",
        "We first group the dataframe by the `month` column, before summing together the values in the `Appliances` column for each group."
      ]
    },
    {
      "cell_type": "code",
      "execution_count": 51,
      "metadata": {
        "id": "79hPOaG9bu4A",
        "nbgrader": {
          "grade": false,
          "grade_id": "cell-5521c415bf5963be",
          "locked": false,
          "schema_version": 3,
          "solution": true,
          "task": false
        }
      },
      "outputs": [
        {
          "name": "stderr",
          "output_type": "stream",
          "text": [
            "                                                                                \r"
          ]
        }
      ],
      "source": [
        "# create a variable `hist_elect` that contains the histogram of total energy consumed by the Appliances, grouped by month\n",
        "hist_elect = df_train.groupBy('month').sum('Appliances').sort(\"month\").collect()"
      ]
    },
    {
      "cell_type": "code",
      "execution_count": 52,
      "metadata": {
        "id": "EsKh8_JKbu4A",
        "nbgrader": {
          "grade": true,
          "grade_id": "cell-2b25550471825981",
          "locked": false,
          "points": 0,
          "schema_version": 3,
          "solution": true,
          "task": false
        }
      },
      "outputs": [
        {
          "data": {
            "image/png": "[encoded data removed]",
            "text/plain": [
              "<Figure size 640x480 with 1 Axes>"
            ]
          },
          "metadata": {},
          "output_type": "display_data"
        }
      ],
      "source": [
        "(x_values, y_values) = zip(*hist_elect)\n",
        "plt.bar(x_values, y_values)\n",
        "plt.xlabel('Month')\n",
        "plt.ylabel('Sum of Appliance Energy')\n",
        "plt.show()"
      ]
    },
    {
      "cell_type": "markdown",
      "metadata": {
        "id": "V2IpKAUHbu4A",
        "nbgrader": {
          "grade": false,
          "grade_id": "cell-75f1197b0325c06d",
          "locked": true,
          "schema_version": 3,
          "solution": false,
          "task": false
        }
      },
      "source": [
        "Surprisingly, we don't seem to have all the data from the 1st of January as we have less consumption in that particular month.\n",
        "\n",
        "**Task:** Check the number of data points we have for each month. You will need to use `groupBy()` and an appropriate aggregation to get the number of data points for each group. You may wish to refer to the [Spark SQL Grouping documentation](https://spark.apache.org/docs/latest/api/python/reference/pyspark.sql/grouping.html).\n"
      ]
    },
    {
      "cell_type": "code",
      "execution_count": 53,
      "metadata": {
        "id": "3EketqV4bu4A",
        "nbgrader": {
          "grade": false,
          "grade_id": "cell-2ed1b3f11fe51ec8",
          "locked": false,
          "schema_version": 3,
          "solution": true,
          "task": false
        }
      },
      "outputs": [
        {
          "name": "stdout",
          "output_type": "stream",
          "text": [
            "+-----+-----------+\n",
            "|month|num_records|\n",
            "+-----+-----------+\n",
            "|  2.0|       2952|\n",
            "|  1.0|       2124|\n",
            "|  3.0|       3122|\n",
            "|  4.0|       3064|\n",
            "|  5.0|       2725|\n",
            "+-----+-----------+\n",
            "\n"
          ]
        }
      ],
      "source": [
        "from pyspark.sql.functions import count\n",
        "\n",
        "# Group the data by 'month' and count the number of records in each group\n",
        "month_counts = df_train.groupBy('month').agg(count('*').alias('num_records'))\n",
        "\n",
        "# Show the counts for each month\n",
        "month_counts.show()"
      ]
    },
    {
      "cell_type": "markdown",
      "metadata": {
        "id": "c0X7ttBYbu4A",
        "nbgrader": {
          "grade": false,
          "grade_id": "cell-e6dce63d19f9cabf",
          "locked": true,
          "schema_version": 3,
          "solution": false,
          "task": false
        }
      },
      "source": [
        "We have fewer examples for both January and May. So probably the month is not a good feature, don't you think?\n",
        "\n",
        "Even if we did have the same number of examples for those months, it wouldn't make much sense to use it if we expect our model to predict future values in other months different than those. We are going to remove it from the DataFrame (and the training and test data frames too!).\n",
        "\n",
        "**Task:** Remove the `month` column from `df`, `df_train` and `df_test`."
      ]
    },
    {
      "cell_type": "code",
      "execution_count": 54,
      "metadata": {
        "id": "g_VNvmU3bu4E",
        "nbgrader": {
          "grade": false,
          "grade_id": "cell-fad68e0bbfd1e59f",
          "locked": false,
          "schema_version": 3,
          "solution": true,
          "task": false
        }
      },
      "outputs": [],
      "source": [
        "# Update the variables `df`, `df_train` and `df_test`, removing the column 'month'\n",
        "df = df.drop('month')\n",
        "df_train = df_train.drop('month')\n",
        "df_test = df_test.drop('month')\n",
        "\n",
        "#! This analysis and latter update of the data should have been done before splitting the data into training and test sets. "
      ]
    },
    {
      "cell_type": "code",
      "execution_count": 55,
      "metadata": {
        "id": "v62MA8DHbu4E",
        "nbgrader": {
          "grade": true,
          "grade_id": "cell-18a289e60bacafed",
          "locked": true,
          "points": 0,
          "schema_version": 3,
          "solution": false,
          "task": false
        }
      },
      "outputs": [
        {
          "name": "stdout",
          "output_type": "stream",
          "text": [
            "Test passed.\n",
            "Test passed.\n",
            "Test passed.\n"
          ]
        }
      ],
      "source": [
        "test(\"month\" in df.columns, False, \"Column month has not been removed!\")\n",
        "test(\"month\" in df_train.columns, False, \"Column month has not been removed!\")\n",
        "test(\"month\" in df_test.columns, False, \"Column month has not been removed!\")"
      ]
    },
    {
      "cell_type": "markdown",
      "metadata": {
        "id": "BcoritW6bu4E",
        "nbgrader": {
          "grade": false,
          "grade_id": "cell-d8aab95c80f20932",
          "locked": true,
          "schema_version": 3,
          "solution": false,
          "task": false
        }
      },
      "source": [
        "You could do other plots to understand better the data and practice with Spark. This is a good opportunity to practice with the DataFrame API!\n",
        "\n",
        "**Task:** Add any other analysis of the data you consider necessary in the cell below."
      ]
    },
    {
      "cell_type": "code",
      "execution_count": 62,
      "metadata": {
        "id": "t0oYZ02Pbu4E",
        "nbgrader": {
          "grade": true,
          "grade_id": "cell-13f6aa1e22b192f1",
          "locked": false,
          "points": 0,
          "schema_version": 3,
          "solution": true,
          "task": false
        }
      },
      "outputs": [
        {
          "data": {
            "image/png": "[encoded data removed]",
            "text/plain": [
              "<Figure size 1100x900 with 2 Axes>"
            ]
          },
          "metadata": {},
          "output_type": "display_data"
        }
      ],
      "source": [
        "# Plot a correlation matrix of the features in the training set\n",
        "import seaborn as sns\n",
        "import numpy as np \n",
        "\n",
        "corr = df_train.toPandas().corr()\n",
        "mask = np.triu(np.ones_like(corr, dtype=bool))\n",
        "\n",
        "f, ax = plt.subplots(figsize=(11, 9))\n",
        "cmap = sns.diverging_palette(230, 20, as_cmap=True)\n",
        "\n",
        "sns.heatmap(corr, mask=mask, cmap=cmap, vmax=.3, center=0,\n",
        "            square=True, linewidths=.5, cbar_kws={\"shrink\": .5})\n",
        "\n",
        "plt.show()"
      ]
    },
    {
      "cell_type": "code",
      "execution_count": 64,
      "metadata": {},
      "outputs": [
        {
          "data": {
            "image/png": "[encoded data removed]",
            "text/plain": [
              "<Figure size 1200x600 with 1 Axes>"
            ]
          },
          "metadata": {},
          "output_type": "display_data"
        }
      ],
      "source": [
        "# Convert Spark DataFrame to Pandas DataFrame for visualization\n",
        "pandas_df = df_train.select('hour', 'Appliances').toPandas()\n",
        "\n",
        "# Create a box plot for energy consumption by hour\n",
        "plt.figure(figsize=(12, 6))\n",
        "sns.boxplot(x='hour', y='Appliances', data=pandas_df)\n",
        "plt.title('Box plot of Energy Consumption by Hour')\n",
        "\n",
        "plt.show()"
      ]
    },
    {
      "cell_type": "markdown",
      "metadata": {
        "id": "XP3stq2_bu4E",
        "nbgrader": {
          "grade": false,
          "grade_id": "cell-e49995e14a31fa47",
          "locked": true,
          "schema_version": 3,
          "solution": false,
          "task": false
        }
      },
      "source": [
        "## Create a Pipeline with Spark ML\n",
        "\n",
        "As you know, we can't feed the DataFrame directly to a machine learning algorithm, as we need to put all the input features as an Array, and indicate which one is the output feature (in our case, the 'Appliances' column!).\n",
        "\n",
        "We will put together a simple Pipeline with the following stages:\n",
        "\n",
        "- VectorAssembler: To combine all the input columns into a single vector column (i.e., all the columns but the 'Appliances' one.\n",
        "- Learning algorithm: We feel like using Gradient-Boosted Trees [GBTs](https://en.wikipedia.org/wiki/Gradient_boosting) for this example, but feel free to use anything else.\n",
        "- CrossValidator: We will use cross validation to tune the parameters of the GBT model. Yes, this can be added as part of a pipeline!"
      ]
    },
    {
      "cell_type": "markdown",
      "metadata": {
        "id": "srJlt7DQbu4E",
        "nbgrader": {
          "grade": false,
          "grade_id": "cell-3f24c59f54a6cf35",
          "locked": true,
          "schema_version": 3,
          "solution": false,
          "task": false
        }
      },
      "source": [
        "**Task:** Create the `VectorAssembler`. Do not forget to remove the target variable from the input columns!"
      ]
    },
    {
      "cell_type": "code",
      "execution_count": 79,
      "metadata": {
        "id": "CUm4peosbu4F",
        "nbgrader": {
          "grade": true,
          "grade_id": "cell-706de5b087873dcc",
          "locked": false,
          "points": 0,
          "schema_version": 3,
          "solution": true,
          "task": false
        }
      },
      "outputs": [
        {
          "name": "stdout",
          "output_type": "stream",
          "text": [
            "The column 'features' already exists.\n"
          ]
        }
      ],
      "source": [
        "from pyspark.ml.feature import VectorAssembler\n",
        "\n",
        "input_cols = [col for col in df_train.columns if col != 'Appliances']\n",
        "\n",
        "# Check if 'features' column already exists\n",
        "if 'features' not in df_train.columns:\n",
        "    assembler = VectorAssembler(inputCols=input_cols, outputCol='features')\n",
        "    # Transform the data by combining features\n",
        "    df_train = assembler.transform(df_train)\n",
        "else:\n",
        "    print(\"The column 'features' already exists.\")"
      ]
    },
    {
      "cell_type": "markdown",
      "metadata": {
        "id": "Z80PBn6pbu4F",
        "nbgrader": {
          "grade": false,
          "grade_id": "cell-68a3d374f4a70c38",
          "locked": true,
          "schema_version": 3,
          "solution": false,
          "task": false
        }
      },
      "source": [
        "**Task:** Create an instance of `GBTRegressor` in which you don't indicate any parameters other than the target variable (i.e. `labelCol`), which should be set to `Appliances`. Assign it to a variable named `gbt`."
      ]
    },
    {
      "cell_type": "code",
      "execution_count": 69,
      "metadata": {
        "id": "Qqs-E5Wcbu4F",
        "nbgrader": {
          "grade": true,
          "grade_id": "cell-8db3898a09503ca1",
          "locked": false,
          "points": 0,
          "schema_version": 3,
          "solution": true,
          "task": false
        }
      },
      "outputs": [],
      "source": [
        "from pyspark.ml.regression import GBTRegressor\n",
        "\n",
        "gbt = GBTRegressor(labelCol='Appliances')"
      ]
    },
    {
      "cell_type": "markdown",
      "metadata": {
        "id": "H0q4vEDgbu4F",
        "nbgrader": {
          "grade": false,
          "grade_id": "cell-102cc339bfa52fe2",
          "locked": true,
          "schema_version": 3,
          "solution": false,
          "task": false
        }
      },
      "source": [
        "**Task:** Create a `CrossValidator` for `gbt`. You will first need to create a parameter grid and evaluator. The following cells guide you through these steps."
      ]
    },
    {
      "cell_type": "markdown",
      "metadata": {
        "id": "o_GuPg9cbu4F",
        "nbgrader": {
          "grade": false,
          "grade_id": "cell-a46ae0c64349795f",
          "locked": true,
          "schema_version": 3,
          "solution": false,
          "task": false
        }
      },
      "source": [
        "You can explore the hyper-parameters you like for GBTs. Full documentation [here](https://spark.apache.org/docs/latest/api/python/reference/api/pyspark.ml.regression.GBTRegressor.html). We would suggest to create a 'grid' for at least the depth of the tree and the number of iterations (e.g., we started with 10 and 20 iterations and the maximum depth at 5 and 8). If you are using your own computer, perhaps it is not a good idea to investigate more than 4-8 combinations of parameters.\n",
        "\n",
        "Use `ParamGridBuilder()` to create your parameter grid. Check the docs for how to use it!"
      ]
    },
    {
      "cell_type": "code",
      "execution_count": 70,
      "metadata": {
        "id": "6SrN1gX-bu4F",
        "nbgrader": {
          "grade": false,
          "grade_id": "cell-54927b9e30d4d504",
          "locked": true,
          "schema_version": 3,
          "solution": false,
          "task": false
        }
      },
      "outputs": [],
      "source": [
        "from pyspark.ml.tuning import CrossValidator, ParamGridBuilder\n",
        "from pyspark.ml.evaluation import RegressionEvaluator\n",
        "\n",
        "# Create a ParamGridBuilder and build the grid\n",
        "paramGrid = (ParamGridBuilder()\n",
        "             .addGrid(gbt.maxDepth, [5, 8])\n",
        "             .addGrid(gbt.maxIter, [10, 20])\n",
        "             .build())"
      ]
    },
    {
      "cell_type": "markdown",
      "metadata": {
        "id": "PrF_Qc4Cbu4G",
        "nbgrader": {
          "grade": false,
          "grade_id": "cell-4ed184ef97131b35",
          "locked": true,
          "schema_version": 3,
          "solution": false,
          "task": false
        }
      },
      "source": [
        "Create a `RegressionEvaluator`\n",
        " that uses the [Root Mean Squared Error (RMSE)](https://en.wikipedia.org/wiki/Root-mean-square_deviation) as our performance metric."
      ]
    },
    {
      "cell_type": "code",
      "execution_count": 71,
      "metadata": {
        "id": "0yz613Fsbu4G",
        "nbgrader": {
          "grade": false,
          "grade_id": "cell-a292d5c29d2d317c",
          "locked": false,
          "schema_version": 3,
          "solution": true,
          "task": false
        }
      },
      "outputs": [],
      "source": [
        "from pyspark.ml.evaluation import RegressionEvaluator\n",
        "\n",
        "# Create a variable `evaluator` with a rmse as metric for the prediction column given by `gbt`.\n",
        "evaluator = RegressionEvaluator(labelCol='Appliances', predictionCol='prediction', metricName='rmse')"
      ]
    },
    {
      "cell_type": "markdown",
      "metadata": {
        "id": "C6gwZdD0bu4G",
        "nbgrader": {
          "grade": false,
          "grade_id": "cell-85da592a82153cc7",
          "locked": true,
          "schema_version": 3,
          "solution": false,
          "task": false
        }
      },
      "source": [
        "We can now create a CrossValidator `cv` that uses the `gbt` as estimator, as well as the evaluator and grid we defined above."
      ]
    },
    {
      "cell_type": "code",
      "execution_count": 72,
      "metadata": {
        "id": "VPA4BWKsbu4G",
        "nbgrader": {
          "grade": true,
          "grade_id": "cell-ff22f5dbf35b6e2f",
          "locked": false,
          "points": 0,
          "schema_version": 3,
          "solution": true,
          "task": false
        }
      },
      "outputs": [],
      "source": [
        "# Create a CrossValidator `cv` that uses the `gbt` as estimator, as well as the evaluator and grid we defined above.\n",
        "cv = CrossValidator(estimator=gbt, estimatorParamMaps=paramGrid, evaluator=evaluator, numFolds=3)"
      ]
    },
    {
      "cell_type": "markdown",
      "metadata": {
        "id": "zyljNDvWbu4G",
        "nbgrader": {
          "grade": false,
          "grade_id": "cell-2b33520df40a8ee9",
          "locked": true,
          "schema_version": 3,
          "solution": false,
          "task": false
        }
      },
      "source": [
        "Now we can put everything together into a Pipeline.\n",
        "\n",
        "**Task:** Create a Pipeline (`pipeline`) that contains the two stages, `vectorAssembler` and `cv`."
      ]
    },
    {
      "cell_type": "code",
      "execution_count": 76,
      "metadata": {
        "id": "VbMIUzfLbu4G",
        "nbgrader": {
          "grade": true,
          "grade_id": "cell-c772c77b96ea0299",
          "locked": false,
          "points": 0,
          "schema_version": 3,
          "solution": true,
          "task": false
        }
      },
      "outputs": [],
      "source": [
        "from pyspark.ml import Pipeline\n",
        "\n",
        "# Create a Pipeline (`pipeline`) that contains the two stages, `vectorAssembler` and `cv`.\n",
        "pipeline = Pipeline(stages=[cv])"
      ]
    },
    {
      "cell_type": "markdown",
      "metadata": {
        "id": "4Wd4UEOmbu4H",
        "nbgrader": {
          "grade": false,
          "grade_id": "cell-83983f3ad8703821",
          "locked": true,
          "schema_version": 3,
          "solution": false,
          "task": false
        }
      },
      "source": [
        "We are finally ready to fit our pipeline to the training data.\n",
        "\n",
        "**Task:** `fit` the model, and store in a `pipeline_model` variable. This might take quite a bit of time!"
      ]
    },
    {
      "cell_type": "code",
      "execution_count": 78,
      "metadata": {
        "id": "JlEJjpPKbu4H",
        "nbgrader": {
          "grade": true,
          "grade_id": "cell-4865af895712af5e",
          "locked": false,
          "points": 0,
          "schema_version": 3,
          "solution": true,
          "task": false
        }
      },
      "outputs": [
        {
          "name": "stderr",
          "output_type": "stream",
          "text": [
            "ERROR:root:KeyboardInterrupt while sending command.\n",
            "Traceback (most recent call last):\n",
            "  File \"/Users/nathalia/git/NATCOR_heuropt/NATCOR/lib/python3.10/site-packages/py4j/java_gateway.py\", line 1038, in send_command\n",
            "    response = connection.send_command(command)\n",
            "  File \"/Users/nathalia/git/NATCOR_heuropt/NATCOR/lib/python3.10/site-packages/py4j/clientserver.py\", line 511, in send_command\n",
            "    answer = smart_decode(self.stream.readline()[:-1])\n",
            "  File \"/Users/nathalia/miniforge3/lib/python3.10/socket.py\", line 705, in readinto\n",
            "    return self._sock.recv_into(b)\n",
            "KeyboardInterrupt\n"
          ]
        },
        {
          "ename": "KeyboardInterrupt",
          "evalue": "",
          "output_type": "error",
          "traceback": [
            "\u001b[0;31m---------------------------------------------------------------------------\u001b[0m",
            "\u001b[0;31mKeyboardInterrupt\u001b[0m                         Traceback (most recent call last)",
            "Cell \u001b[0;32mIn[78], line 2\u001b[0m\n\u001b[1;32m      1\u001b[0m \u001b[38;5;66;03m# `fit` the model, and store in a `pipeline_model` variable.\u001b[39;00m\n\u001b[0;32m----> 2\u001b[0m pipeline_model \u001b[38;5;241m=\u001b[39m \u001b[43mpipeline\u001b[49m\u001b[38;5;241;43m.\u001b[39;49m\u001b[43mfit\u001b[49m\u001b[43m(\u001b[49m\u001b[43mdf_train\u001b[49m\u001b[43m)\u001b[49m\n",
            "File \u001b[0;32m~/git/NATCOR_heuropt/NATCOR/lib/python3.10/site-packages/pyspark/ml/base.py:205\u001b[0m, in \u001b[0;36mEstimator.fit\u001b[0;34m(self, dataset, params)\u001b[0m\n\u001b[1;32m    203\u001b[0m         \u001b[38;5;28;01mreturn\u001b[39;00m \u001b[38;5;28mself\u001b[39m\u001b[38;5;241m.\u001b[39mcopy(params)\u001b[38;5;241m.\u001b[39m_fit(dataset)\n\u001b[1;32m    204\u001b[0m     \u001b[38;5;28;01melse\u001b[39;00m:\n\u001b[0;32m--> 205\u001b[0m         \u001b[38;5;28;01mreturn\u001b[39;00m \u001b[38;5;28;43mself\u001b[39;49m\u001b[38;5;241;43m.\u001b[39;49m\u001b[43m_fit\u001b[49m\u001b[43m(\u001b[49m\u001b[43mdataset\u001b[49m\u001b[43m)\u001b[49m\n\u001b[1;32m    206\u001b[0m \u001b[38;5;28;01melse\u001b[39;00m:\n\u001b[1;32m    207\u001b[0m     \u001b[38;5;28;01mraise\u001b[39;00m \u001b[38;5;167;01mTypeError\u001b[39;00m(\n\u001b[1;32m    208\u001b[0m         \u001b[38;5;124m\"\u001b[39m\u001b[38;5;124mParams must be either a param map or a list/tuple of param maps, \u001b[39m\u001b[38;5;124m\"\u001b[39m\n\u001b[1;32m    209\u001b[0m         \u001b[38;5;124m\"\u001b[39m\u001b[38;5;124mbut got \u001b[39m\u001b[38;5;132;01m%s\u001b[39;00m\u001b[38;5;124m.\u001b[39m\u001b[38;5;124m\"\u001b[39m \u001b[38;5;241m%\u001b[39m \u001b[38;5;28mtype\u001b[39m(params)\n\u001b[1;32m    210\u001b[0m     )\n",
            "File \u001b[0;32m~/git/NATCOR_heuropt/NATCOR/lib/python3.10/site-packages/pyspark/ml/pipeline.py:134\u001b[0m, in \u001b[0;36mPipeline._fit\u001b[0;34m(self, dataset)\u001b[0m\n\u001b[1;32m    132\u001b[0m     dataset \u001b[38;5;241m=\u001b[39m stage\u001b[38;5;241m.\u001b[39mtransform(dataset)\n\u001b[1;32m    133\u001b[0m \u001b[38;5;28;01melse\u001b[39;00m:  \u001b[38;5;66;03m# must be an Estimator\u001b[39;00m\n\u001b[0;32m--> 134\u001b[0m     model \u001b[38;5;241m=\u001b[39m \u001b[43mstage\u001b[49m\u001b[38;5;241;43m.\u001b[39;49m\u001b[43mfit\u001b[49m\u001b[43m(\u001b[49m\u001b[43mdataset\u001b[49m\u001b[43m)\u001b[49m\n\u001b[1;32m    135\u001b[0m     transformers\u001b[38;5;241m.\u001b[39mappend(model)\n\u001b[1;32m    136\u001b[0m     \u001b[38;5;28;01mif\u001b[39;00m i \u001b[38;5;241m<\u001b[39m indexOfLastEstimator:\n",
            "File \u001b[0;32m~/git/NATCOR_heuropt/NATCOR/lib/python3.10/site-packages/pyspark/ml/base.py:205\u001b[0m, in \u001b[0;36mEstimator.fit\u001b[0;34m(self, dataset, params)\u001b[0m\n\u001b[1;32m    203\u001b[0m         \u001b[38;5;28;01mreturn\u001b[39;00m \u001b[38;5;28mself\u001b[39m\u001b[38;5;241m.\u001b[39mcopy(params)\u001b[38;5;241m.\u001b[39m_fit(dataset)\n\u001b[1;32m    204\u001b[0m     \u001b[38;5;28;01melse\u001b[39;00m:\n\u001b[0;32m--> 205\u001b[0m         \u001b[38;5;28;01mreturn\u001b[39;00m \u001b[38;5;28;43mself\u001b[39;49m\u001b[38;5;241;43m.\u001b[39;49m\u001b[43m_fit\u001b[49m\u001b[43m(\u001b[49m\u001b[43mdataset\u001b[49m\u001b[43m)\u001b[49m\n\u001b[1;32m    206\u001b[0m \u001b[38;5;28;01melse\u001b[39;00m:\n\u001b[1;32m    207\u001b[0m     \u001b[38;5;28;01mraise\u001b[39;00m \u001b[38;5;167;01mTypeError\u001b[39;00m(\n\u001b[1;32m    208\u001b[0m         \u001b[38;5;124m\"\u001b[39m\u001b[38;5;124mParams must be either a param map or a list/tuple of param maps, \u001b[39m\u001b[38;5;124m\"\u001b[39m\n\u001b[1;32m    209\u001b[0m         \u001b[38;5;124m\"\u001b[39m\u001b[38;5;124mbut got \u001b[39m\u001b[38;5;132;01m%s\u001b[39;00m\u001b[38;5;124m.\u001b[39m\u001b[38;5;124m\"\u001b[39m \u001b[38;5;241m%\u001b[39m \u001b[38;5;28mtype\u001b[39m(params)\n\u001b[1;32m    210\u001b[0m     )\n",
            "File \u001b[0;32m~/git/NATCOR_heuropt/NATCOR/lib/python3.10/site-packages/pyspark/ml/tuning.py:845\u001b[0m, in \u001b[0;36mCrossValidator._fit\u001b[0;34m(self, dataset)\u001b[0m\n\u001b[1;32m    840\u001b[0m validation \u001b[38;5;241m=\u001b[39m datasets[i][\u001b[38;5;241m1\u001b[39m]\u001b[38;5;241m.\u001b[39mcache()\n\u001b[1;32m    841\u001b[0m train \u001b[38;5;241m=\u001b[39m datasets[i][\u001b[38;5;241m0\u001b[39m]\u001b[38;5;241m.\u001b[39mcache()\n\u001b[1;32m    843\u001b[0m tasks \u001b[38;5;241m=\u001b[39m \u001b[38;5;28mmap\u001b[39m(\n\u001b[1;32m    844\u001b[0m     inheritable_thread_target,\n\u001b[0;32m--> 845\u001b[0m     \u001b[43m_parallelFitTasks\u001b[49m\u001b[43m(\u001b[49m\u001b[43mest\u001b[49m\u001b[43m,\u001b[49m\u001b[43m \u001b[49m\u001b[43mtrain\u001b[49m\u001b[43m,\u001b[49m\u001b[43m \u001b[49m\u001b[43meva\u001b[49m\u001b[43m,\u001b[49m\u001b[43m \u001b[49m\u001b[43mvalidation\u001b[49m\u001b[43m,\u001b[49m\u001b[43m \u001b[49m\u001b[43mepm\u001b[49m\u001b[43m,\u001b[49m\u001b[43m \u001b[49m\u001b[43mcollectSubModelsParam\u001b[49m\u001b[43m)\u001b[49m,\n\u001b[1;32m    846\u001b[0m )\n\u001b[1;32m    847\u001b[0m \u001b[38;5;28;01mfor\u001b[39;00m j, metric, subModel \u001b[38;5;129;01min\u001b[39;00m pool\u001b[38;5;241m.\u001b[39mimap_unordered(\u001b[38;5;28;01mlambda\u001b[39;00m f: f(), tasks):\n\u001b[1;32m    848\u001b[0m     metrics_all[i][j] \u001b[38;5;241m=\u001b[39m metric\n",
            "File \u001b[0;32m~/git/NATCOR_heuropt/NATCOR/lib/python3.10/site-packages/pyspark/ml/tuning.py:110\u001b[0m, in \u001b[0;36m_parallelFitTasks\u001b[0;34m(est, train, eva, validation, epm, collectSubModel)\u001b[0m\n\u001b[1;32m     78\u001b[0m \u001b[38;5;28;01mdef\u001b[39;00m \u001b[38;5;21m_parallelFitTasks\u001b[39m(\n\u001b[1;32m     79\u001b[0m     est: Estimator,\n\u001b[1;32m     80\u001b[0m     train: DataFrame,\n\u001b[0;32m   (...)\u001b[0m\n\u001b[1;32m     84\u001b[0m     collectSubModel: \u001b[38;5;28mbool\u001b[39m,\n\u001b[1;32m     85\u001b[0m ) \u001b[38;5;241m-\u001b[39m\u001b[38;5;241m>\u001b[39m List[Callable[[], Tuple[\u001b[38;5;28mint\u001b[39m, \u001b[38;5;28mfloat\u001b[39m, Transformer]]]:\n\u001b[1;32m     86\u001b[0m \u001b[38;5;250m    \u001b[39m\u001b[38;5;124;03m\"\"\"\u001b[39;00m\n\u001b[1;32m     87\u001b[0m \u001b[38;5;124;03m    Creates a list of callables which can be called from different threads to fit and evaluate\u001b[39;00m\n\u001b[1;32m     88\u001b[0m \u001b[38;5;124;03m    an estimator in parallel. Each callable returns an `(index, metric)` pair.\u001b[39;00m\n\u001b[0;32m   (...)\u001b[0m\n\u001b[1;32m    108\u001b[0m \u001b[38;5;124;03m        (int, float, subModel), an index into `epm` and the associated metric value.\u001b[39;00m\n\u001b[1;32m    109\u001b[0m \u001b[38;5;124;03m    \"\"\"\u001b[39;00m\n\u001b[0;32m--> 110\u001b[0m     modelIter \u001b[38;5;241m=\u001b[39m \u001b[43mest\u001b[49m\u001b[38;5;241;43m.\u001b[39;49m\u001b[43mfitMultiple\u001b[49m\u001b[43m(\u001b[49m\u001b[43mtrain\u001b[49m\u001b[43m,\u001b[49m\u001b[43m \u001b[49m\u001b[43mepm\u001b[49m\u001b[43m)\u001b[49m\n\u001b[1;32m    112\u001b[0m     \u001b[38;5;28;01mdef\u001b[39;00m \u001b[38;5;21msingleTask\u001b[39m() \u001b[38;5;241m-\u001b[39m\u001b[38;5;241m>\u001b[39m Tuple[\u001b[38;5;28mint\u001b[39m, \u001b[38;5;28mfloat\u001b[39m, Transformer]:\n\u001b[1;32m    113\u001b[0m         index, model \u001b[38;5;241m=\u001b[39m \u001b[38;5;28mnext\u001b[39m(modelIter)\n",
            "File \u001b[0;32m~/git/NATCOR_heuropt/NATCOR/lib/python3.10/site-packages/pyspark/ml/base.py:153\u001b[0m, in \u001b[0;36mEstimator.fitMultiple\u001b[0;34m(self, dataset, paramMaps)\u001b[0m\n\u001b[1;32m    131\u001b[0m \u001b[38;5;28;01mdef\u001b[39;00m \u001b[38;5;21mfitMultiple\u001b[39m(\n\u001b[1;32m    132\u001b[0m     \u001b[38;5;28mself\u001b[39m, dataset: DataFrame, paramMaps: Sequence[\u001b[38;5;124m\"\u001b[39m\u001b[38;5;124mParamMap\u001b[39m\u001b[38;5;124m\"\u001b[39m]\n\u001b[1;32m    133\u001b[0m ) \u001b[38;5;241m-\u001b[39m\u001b[38;5;241m>\u001b[39m Iterator[Tuple[\u001b[38;5;28mint\u001b[39m, M]]:\n\u001b[1;32m    134\u001b[0m \u001b[38;5;250m    \u001b[39m\u001b[38;5;124;03m\"\"\"\u001b[39;00m\n\u001b[1;32m    135\u001b[0m \u001b[38;5;124;03m    Fits a model to the input dataset for each param map in `paramMaps`.\u001b[39;00m\n\u001b[1;32m    136\u001b[0m \n\u001b[0;32m   (...)\u001b[0m\n\u001b[1;32m    151\u001b[0m \u001b[38;5;124;03m        using `paramMaps[index]`. `index` values may not be sequential.\u001b[39;00m\n\u001b[1;32m    152\u001b[0m \u001b[38;5;124;03m    \"\"\"\u001b[39;00m\n\u001b[0;32m--> 153\u001b[0m     estimator \u001b[38;5;241m=\u001b[39m \u001b[38;5;28;43mself\u001b[39;49m\u001b[38;5;241;43m.\u001b[39;49m\u001b[43mcopy\u001b[49m\u001b[43m(\u001b[49m\u001b[43m)\u001b[49m\n\u001b[1;32m    155\u001b[0m     \u001b[38;5;28;01mdef\u001b[39;00m \u001b[38;5;21mfitSingleModel\u001b[39m(index: \u001b[38;5;28mint\u001b[39m) \u001b[38;5;241m-\u001b[39m\u001b[38;5;241m>\u001b[39m M:\n\u001b[1;32m    156\u001b[0m         \u001b[38;5;28;01mreturn\u001b[39;00m estimator\u001b[38;5;241m.\u001b[39mfit(dataset, paramMaps[index])\n",
            "File \u001b[0;32m~/git/NATCOR_heuropt/NATCOR/lib/python3.10/site-packages/pyspark/ml/wrapper.py:332\u001b[0m, in \u001b[0;36mJavaParams.copy\u001b[0;34m(self, extra)\u001b[0m\n\u001b[1;32m    330\u001b[0m that \u001b[38;5;241m=\u001b[39m \u001b[38;5;28msuper\u001b[39m(JavaParams, \u001b[38;5;28mself\u001b[39m)\u001b[38;5;241m.\u001b[39mcopy(extra)\n\u001b[1;32m    331\u001b[0m \u001b[38;5;28;01mif\u001b[39;00m \u001b[38;5;28mself\u001b[39m\u001b[38;5;241m.\u001b[39m_java_obj \u001b[38;5;129;01mis\u001b[39;00m \u001b[38;5;129;01mnot\u001b[39;00m \u001b[38;5;28;01mNone\u001b[39;00m:\n\u001b[0;32m--> 332\u001b[0m     that\u001b[38;5;241m.\u001b[39m_java_obj \u001b[38;5;241m=\u001b[39m \u001b[38;5;28;43mself\u001b[39;49m\u001b[38;5;241;43m.\u001b[39;49m\u001b[43m_java_obj\u001b[49m\u001b[38;5;241;43m.\u001b[39;49m\u001b[43mcopy\u001b[49m\u001b[43m(\u001b[49m\u001b[38;5;28;43mself\u001b[39;49m\u001b[38;5;241;43m.\u001b[39;49m\u001b[43m_empty_java_param_map\u001b[49m\u001b[43m(\u001b[49m\u001b[43m)\u001b[49m\u001b[43m)\u001b[49m\n\u001b[1;32m    333\u001b[0m     that\u001b[38;5;241m.\u001b[39m_transfer_params_to_java()\n\u001b[1;32m    334\u001b[0m \u001b[38;5;28;01mreturn\u001b[39;00m that\n",
            "File \u001b[0;32m~/git/NATCOR_heuropt/NATCOR/lib/python3.10/site-packages/py4j/java_gateway.py:1321\u001b[0m, in \u001b[0;36mJavaMember.__call__\u001b[0;34m(self, *args)\u001b[0m\n\u001b[1;32m   1314\u001b[0m args_command, temp_args \u001b[38;5;241m=\u001b[39m \u001b[38;5;28mself\u001b[39m\u001b[38;5;241m.\u001b[39m_build_args(\u001b[38;5;241m*\u001b[39margs)\n\u001b[1;32m   1316\u001b[0m command \u001b[38;5;241m=\u001b[39m proto\u001b[38;5;241m.\u001b[39mCALL_COMMAND_NAME \u001b[38;5;241m+\u001b[39m\\\n\u001b[1;32m   1317\u001b[0m     \u001b[38;5;28mself\u001b[39m\u001b[38;5;241m.\u001b[39mcommand_header \u001b[38;5;241m+\u001b[39m\\\n\u001b[1;32m   1318\u001b[0m     args_command \u001b[38;5;241m+\u001b[39m\\\n\u001b[1;32m   1319\u001b[0m     proto\u001b[38;5;241m.\u001b[39mEND_COMMAND_PART\n\u001b[0;32m-> 1321\u001b[0m answer \u001b[38;5;241m=\u001b[39m \u001b[38;5;28;43mself\u001b[39;49m\u001b[38;5;241;43m.\u001b[39;49m\u001b[43mgateway_client\u001b[49m\u001b[38;5;241;43m.\u001b[39;49m\u001b[43msend_command\u001b[49m\u001b[43m(\u001b[49m\u001b[43mcommand\u001b[49m\u001b[43m)\u001b[49m\n\u001b[1;32m   1322\u001b[0m return_value \u001b[38;5;241m=\u001b[39m get_return_value(\n\u001b[1;32m   1323\u001b[0m     answer, \u001b[38;5;28mself\u001b[39m\u001b[38;5;241m.\u001b[39mgateway_client, \u001b[38;5;28mself\u001b[39m\u001b[38;5;241m.\u001b[39mtarget_id, \u001b[38;5;28mself\u001b[39m\u001b[38;5;241m.\u001b[39mname)\n\u001b[1;32m   1325\u001b[0m \u001b[38;5;28;01mfor\u001b[39;00m temp_arg \u001b[38;5;129;01min\u001b[39;00m temp_args:\n",
            "File \u001b[0;32m~/git/NATCOR_heuropt/NATCOR/lib/python3.10/site-packages/py4j/java_gateway.py:1038\u001b[0m, in \u001b[0;36mGatewayClient.send_command\u001b[0;34m(self, command, retry, binary)\u001b[0m\n\u001b[1;32m   1036\u001b[0m connection \u001b[38;5;241m=\u001b[39m \u001b[38;5;28mself\u001b[39m\u001b[38;5;241m.\u001b[39m_get_connection()\n\u001b[1;32m   1037\u001b[0m \u001b[38;5;28;01mtry\u001b[39;00m:\n\u001b[0;32m-> 1038\u001b[0m     response \u001b[38;5;241m=\u001b[39m \u001b[43mconnection\u001b[49m\u001b[38;5;241;43m.\u001b[39;49m\u001b[43msend_command\u001b[49m\u001b[43m(\u001b[49m\u001b[43mcommand\u001b[49m\u001b[43m)\u001b[49m\n\u001b[1;32m   1039\u001b[0m     \u001b[38;5;28;01mif\u001b[39;00m binary:\n\u001b[1;32m   1040\u001b[0m         \u001b[38;5;28;01mreturn\u001b[39;00m response, \u001b[38;5;28mself\u001b[39m\u001b[38;5;241m.\u001b[39m_create_connection_guard(connection)\n",
            "File \u001b[0;32m~/git/NATCOR_heuropt/NATCOR/lib/python3.10/site-packages/py4j/clientserver.py:511\u001b[0m, in \u001b[0;36mClientServerConnection.send_command\u001b[0;34m(self, command)\u001b[0m\n\u001b[1;32m    509\u001b[0m \u001b[38;5;28;01mtry\u001b[39;00m:\n\u001b[1;32m    510\u001b[0m     \u001b[38;5;28;01mwhile\u001b[39;00m \u001b[38;5;28;01mTrue\u001b[39;00m:\n\u001b[0;32m--> 511\u001b[0m         answer \u001b[38;5;241m=\u001b[39m smart_decode(\u001b[38;5;28;43mself\u001b[39;49m\u001b[38;5;241;43m.\u001b[39;49m\u001b[43mstream\u001b[49m\u001b[38;5;241;43m.\u001b[39;49m\u001b[43mreadline\u001b[49m\u001b[43m(\u001b[49m\u001b[43m)\u001b[49m[:\u001b[38;5;241m-\u001b[39m\u001b[38;5;241m1\u001b[39m])\n\u001b[1;32m    512\u001b[0m         logger\u001b[38;5;241m.\u001b[39mdebug(\u001b[38;5;124m\"\u001b[39m\u001b[38;5;124mAnswer received: \u001b[39m\u001b[38;5;132;01m{0}\u001b[39;00m\u001b[38;5;124m\"\u001b[39m\u001b[38;5;241m.\u001b[39mformat(answer))\n\u001b[1;32m    513\u001b[0m         \u001b[38;5;66;03m# Happens when a the other end is dead. There might be an empty\u001b[39;00m\n\u001b[1;32m    514\u001b[0m         \u001b[38;5;66;03m# answer before the socket raises an error.\u001b[39;00m\n",
            "File \u001b[0;32m~/miniforge3/lib/python3.10/socket.py:705\u001b[0m, in \u001b[0;36mSocketIO.readinto\u001b[0;34m(self, b)\u001b[0m\n\u001b[1;32m    703\u001b[0m \u001b[38;5;28;01mwhile\u001b[39;00m \u001b[38;5;28;01mTrue\u001b[39;00m:\n\u001b[1;32m    704\u001b[0m     \u001b[38;5;28;01mtry\u001b[39;00m:\n\u001b[0;32m--> 705\u001b[0m         \u001b[38;5;28;01mreturn\u001b[39;00m \u001b[38;5;28;43mself\u001b[39;49m\u001b[38;5;241;43m.\u001b[39;49m\u001b[43m_sock\u001b[49m\u001b[38;5;241;43m.\u001b[39;49m\u001b[43mrecv_into\u001b[49m\u001b[43m(\u001b[49m\u001b[43mb\u001b[49m\u001b[43m)\u001b[49m\n\u001b[1;32m    706\u001b[0m     \u001b[38;5;28;01mexcept\u001b[39;00m timeout:\n\u001b[1;32m    707\u001b[0m         \u001b[38;5;28mself\u001b[39m\u001b[38;5;241m.\u001b[39m_timeout_occurred \u001b[38;5;241m=\u001b[39m \u001b[38;5;28;01mTrue\u001b[39;00m\n",
            "\u001b[0;31mKeyboardInterrupt\u001b[0m: "
          ]
        }
      ],
      "source": [
        "# `fit` the model, and store in a `pipeline_model` variable.\n",
        "pipeline_model = pipeline.fit(df_train)"
      ]
    },
    {
      "cell_type": "markdown",
      "metadata": {
        "id": "_txv7bD2bu4H",
        "nbgrader": {
          "grade": false,
          "grade_id": "cell-e1c48d0c5a11ba62",
          "locked": true,
          "schema_version": 3,
          "solution": false,
          "task": false
        }
      },
      "source": [
        "**Task:** It could be a good idea to save the `pipelineModel` to disk, in case it takes too long, so we can read it later and re-use it. You should explore the [Pipeline API](https://spark.apache.org/docs/3.3.0/api/python/reference/api/pyspark.ml.PipelineModel.html#pyspark.ml.PipelineModel) to find out how to do this."
      ]
    },
    {
      "cell_type": "code",
      "execution_count": null,
      "metadata": {
        "id": "LqadSalfbu4H",
        "nbgrader": {
          "grade": true,
          "grade_id": "cell-faf3b9bca3d42b86",
          "locked": false,
          "points": 0,
          "schema_version": 3,
          "solution": true,
          "task": false
        }
      },
      "outputs": [],
      "source": [
        "# <FILL-IN WITH YOUR CODE>"
      ]
    },
    {
      "cell_type": "markdown",
      "metadata": {
        "id": "xSDfUTetbu4H",
        "nbgrader": {
          "grade": false,
          "grade_id": "cell-77849593b37442d8",
          "locked": true,
          "schema_version": 3,
          "solution": false,
          "task": false
        }
      },
      "source": [
        "## Evaluate the results"
      ]
    },
    {
      "cell_type": "markdown",
      "metadata": {
        "id": "38ttgWtEbu4H",
        "nbgrader": {
          "grade": false,
          "grade_id": "cell-3c8a2cab62d704f5",
          "locked": true,
          "schema_version": 3,
          "solution": false,
          "task": false
        }
      },
      "source": [
        "To obtain the predictions in the test set, apply the method `transform()` of the trained pipeline on the test DataFrame! This step will not apply the cross-validation, it will simply use the best model from the training stage.\n",
        "\n",
        "**Task:** Use `pipeline_model` to transform the test set, and store the resulting predictions in a variable called `predictions`."
      ]
    },
    {
      "cell_type": "code",
      "execution_count": null,
      "metadata": {
        "id": "a5IEOibKbu4H",
        "nbgrader": {
          "grade": false,
          "grade_id": "cell-d2a232d67c0b332b",
          "locked": false,
          "schema_version": 3,
          "solution": true,
          "task": false
        }
      },
      "outputs": [],
      "source": [
        "# create a variable `predictions`:\n",
        "\n",
        "# <FILL-IN WITH YOUR CODE>"
      ]
    },
    {
      "cell_type": "markdown",
      "metadata": {
        "id": "ZNUIxwNubu4H",
        "nbgrader": {
          "grade": false,
          "grade_id": "cell-a868d56e37754041",
          "locked": true,
          "schema_version": 3,
          "solution": false,
          "task": false
        }
      },
      "source": [
        "It is easier to view the results when we limit the columns displayed to:\n",
        "\n",
        "- `Appliances`: the consumption of the Appliances in Wh\n",
        "- `prediction`: our predicted consumption\n",
        "\n",
        "**Task:** Find a way to show the output  with these two features only (and only for the first 5 rows):"
      ]
    },
    {
      "cell_type": "code",
      "execution_count": null,
      "metadata": {
        "id": "evOpEhqDbu4I",
        "nbgrader": {
          "grade": true,
          "grade_id": "cell-9846c3a76797db6e",
          "locked": false,
          "points": 0,
          "schema_version": 3,
          "solution": true,
          "task": false
        }
      },
      "outputs": [],
      "source": [
        "# <FILL-IN WITH YOUR CODE>"
      ]
    },
    {
      "cell_type": "markdown",
      "metadata": {
        "id": "yofgqD3abu4I",
        "nbgrader": {
          "grade": false,
          "grade_id": "cell-f37cc71440a8edf2",
          "locked": true,
          "schema_version": 3,
          "solution": false,
          "task": false
        }
      },
      "source": [
        "Are these results any good? Let's compute the RMSE using the evaluator we created before!\n",
        "\n",
        "**Task:** Use `evaluator` to get the RMSE of the predictions from our `pipeline_model`. Store the result in a `rmse` variable."
      ]
    },
    {
      "cell_type": "code",
      "execution_count": null,
      "metadata": {
        "id": "QWrEnUw3bu4I",
        "nbgrader": {
          "grade": true,
          "grade_id": "cell-1250797f2aae0195",
          "locked": false,
          "points": 0,
          "schema_version": 3,
          "solution": true,
          "task": false
        }
      },
      "outputs": [],
      "source": [
        "# <FILL-IN WITH YOUR CODE>"
      ]
    },
    {
      "cell_type": "code",
      "execution_count": null,
      "metadata": {
        "id": "UAshv4eqbu4I",
        "nbgrader": {
          "grade": true,
          "grade_id": "cell-7c9e770577bda460",
          "locked": false,
          "points": 0,
          "schema_version": 3,
          "solution": true,
          "task": false
        }
      },
      "outputs": [],
      "source": [
        "print(rmse)"
      ]
    },
    {
      "cell_type": "markdown",
      "metadata": {
        "id": "k5BKom0Abu4I",
        "nbgrader": {
          "grade": false,
          "grade_id": "cell-a6d64a5f7cdccf1c",
          "locked": true,
          "schema_version": 3,
          "solution": false,
          "task": false
        }
      },
      "source": [
        "Seems a bit high?  Well, this number is relatively close to what it is reported in the original paper with RandomForest (RMSE around 69). But maybe you can investigate a bit more if you can improve that. Can we find out the importance of the features from the GBTs?  "
      ]
    },
    {
      "cell_type": "markdown",
      "metadata": {
        "id": "MMKLAaJObu4I",
        "nbgrader": {
          "grade": false,
          "grade_id": "cell-98af8ec7cf0709ae",
          "locked": true,
          "schema_version": 3,
          "solution": false,
          "task": false
        }
      },
      "source": [
        "We first need to find out the best model!! In the way we trained the pipeline, you can find the trained model as one of the stages of the `pipeline_model`."
      ]
    },
    {
      "cell_type": "code",
      "execution_count": null,
      "metadata": {
        "id": "15Tb0DJZbu4I",
        "nbgrader": {
          "grade": true,
          "grade_id": "cell-a6849e473abdae3b",
          "locked": false,
          "points": 0,
          "schema_version": 3,
          "solution": true,
          "task": false
        }
      },
      "outputs": [],
      "source": [
        "cv_model = pipeline_model.stages[1]"
      ]
    },
    {
      "cell_type": "code",
      "execution_count": null,
      "metadata": {
        "id": "_y27pvaNbu4I",
        "nbgrader": {
          "grade": true,
          "grade_id": "cell-52f49ff72152882e",
          "locked": false,
          "points": 0,
          "schema_version": 3,
          "solution": true,
          "task": false
        }
      },
      "outputs": [],
      "source": [
        "cv_model.bestModel"
      ]
    },
    {
      "cell_type": "markdown",
      "metadata": {
        "id": "DL2npr_4i2pL"
      },
      "source": [
        "We can access the feature importances for the `cv_model.bestModel` as shown in the following cell."
      ]
    },
    {
      "cell_type": "code",
      "execution_count": null,
      "metadata": {
        "id": "q5bLvD00bu4J",
        "nbgrader": {
          "grade": true,
          "grade_id": "cell-45a5bf04b6c73db5",
          "locked": false,
          "points": 0,
          "schema_version": 3,
          "solution": true,
          "task": false
        }
      },
      "outputs": [],
      "source": [
        "importance = cv_model.bestModel.featureImportances\n",
        "list(sorted(zip(featuresCols, importance.toArray()), key=lambda t: -t[1]))"
      ]
    },
    {
      "cell_type": "markdown",
      "metadata": {
        "id": "zxy_L21Lbu4J",
        "nbgrader": {
          "grade": false,
          "grade_id": "cell-a4a6d02a351f7c19",
          "locked": true,
          "schema_version": 3,
          "solution": false,
          "task": false
        }
      },
      "source": [
        "Uhm, looks like our model gave the hour of the day (feature #28) quite a bit of importance. The random features ('rv1' and 'rv2', numbered, #25 and #26) were given different importance. While the model noticed that 'rv2' was completely useless, it gave some importance to 'rv1'.\n",
        "\n",
        "GBTs perform somehow an implicit feature selection, so those low-importance features won't affect much their performance, but we wonder if we could just remove low-importance features?"
      ]
    },
    {
      "cell_type": "markdown",
      "metadata": {
        "id": "UanAlz6mbu4J",
        "nbgrader": {
          "grade": false,
          "grade_id": "cell-32a9d061f3e5a666",
          "locked": true,
          "schema_version": 3,
          "solution": false,
          "task": false
        }
      },
      "source": [
        "## Removing low-importance features"
      ]
    },
    {
      "cell_type": "markdown",
      "metadata": {
        "id": "vIgGDqZBbu4J",
        "nbgrader": {
          "grade": false,
          "grade_id": "cell-397368093280ee02",
          "locked": true,
          "schema_version": 3,
          "solution": false,
          "task": false
        }
      },
      "source": [
        "**Task:** Create a list of those features with importance less than 0.05. Your list should be called `to_remove`."
      ]
    },
    {
      "cell_type": "code",
      "execution_count": null,
      "metadata": {
        "id": "2yXymbmebu4J",
        "nbgrader": {
          "grade": true,
          "grade_id": "cell-6b1e6b9006205fb3",
          "locked": false,
          "points": 0,
          "schema_version": 3,
          "solution": true,
          "task": false
        }
      },
      "outputs": [],
      "source": [
        "# create a list `to_remove` that contains the feature names that must be removed because their confidence is less than 0.05\n",
        "\n",
        "# <FILL-IN WITH YOUR CODE>"
      ]
    },
    {
      "cell_type": "code",
      "execution_count": null,
      "metadata": {
        "id": "yHg7c4Nxbu4J",
        "nbgrader": {
          "grade": true,
          "grade_id": "cell-76892a1a849b37d8",
          "locked": false,
          "points": 0,
          "schema_version": 3,
          "solution": true,
          "task": false
        }
      },
      "outputs": [],
      "source": [
        "print(to_remove)"
      ]
    },
    {
      "cell_type": "markdown",
      "metadata": {
        "id": "Q_Wo5LSqbu4J",
        "nbgrader": {
          "grade": false,
          "grade_id": "cell-c6802214fa240a6f",
          "locked": true,
          "schema_version": 3,
          "solution": false,
          "task": false
        }
      },
      "source": [
        "Check the current schema of the training data:"
      ]
    },
    {
      "cell_type": "code",
      "execution_count": null,
      "metadata": {
        "id": "XX7rjljUbu4J",
        "nbgrader": {
          "grade": true,
          "grade_id": "cell-7eaf394a6020cdcd",
          "locked": false,
          "points": 0,
          "schema_version": 3,
          "solution": true,
          "task": false
        }
      },
      "outputs": [],
      "source": [
        "df_train.printSchema()"
      ]
    },
    {
      "cell_type": "markdown",
      "metadata": {
        "id": "erlojzvNbu4J",
        "nbgrader": {
          "grade": false,
          "grade_id": "cell-8b82deb2dd980d57",
          "locked": true,
          "schema_version": 3,
          "solution": false,
          "task": false
        }
      },
      "source": [
        "**Task:** Create a new VectorAssembler (called `vectorAssembler2`) with the low-importance columns removed.\n",
        "\n",
        "You don't need to remove the columns from the train and test dataframes as you won't be able to re-train the pipeline without modifying the `VectorAssembler`. You simply need to indicate the columns you want to use when creating a new `vectorAssembler2`"
      ]
    },
    {
      "cell_type": "code",
      "execution_count": null,
      "metadata": {
        "id": "5gnveLedbu4J",
        "nbgrader": {
          "grade": true,
          "grade_id": "cell-9452a5dfa044d94e",
          "locked": false,
          "points": 0,
          "schema_version": 3,
          "solution": true,
          "task": false
        }
      },
      "outputs": [],
      "source": [
        "# <FILL-IN WITH YOUR CODE>"
      ]
    },
    {
      "cell_type": "markdown",
      "metadata": {
        "id": "l5Ydrxhibu4K",
        "nbgrader": {
          "grade": false,
          "grade_id": "cell-b545a033a4bed177",
          "locked": true,
          "schema_version": 3,
          "solution": false,
          "task": false
        }
      },
      "source": [
        "**Task:** Create a new pipeline, `pipeline2`, with that new `vectorAssembler2`, and fit it to the training data. Use the resulting pipeline model to make predictions on the test set, and then compute the RMSE."
      ]
    },
    {
      "cell_type": "code",
      "execution_count": null,
      "metadata": {
        "id": "5iJUTDZ7bu4K",
        "nbgrader": {
          "grade": true,
          "grade_id": "cell-d4a3e8633542f9e6",
          "locked": false,
          "points": 0,
          "schema_version": 3,
          "solution": true,
          "task": false
        }
      },
      "outputs": [],
      "source": [
        "# <FILL-IN WITH YOUR CODE>"
      ]
    },
    {
      "cell_type": "code",
      "execution_count": null,
      "metadata": {
        "id": "TilsAngSbu4K",
        "nbgrader": {
          "grade": true,
          "grade_id": "cell-5c708eda14fa475e",
          "locked": false,
          "points": 0,
          "schema_version": 3,
          "solution": true,
          "task": false
        }
      },
      "outputs": [],
      "source": [
        "# <FILL-IN WITH YOUR CODE>"
      ]
    },
    {
      "cell_type": "markdown",
      "metadata": {
        "id": "LZ5HRgVMlIC7"
      },
      "source": [
        "**Task:** Check the features and feature importances of the best model."
      ]
    },
    {
      "cell_type": "code",
      "execution_count": null,
      "metadata": {
        "id": "kvffI6HVbu4K",
        "nbgrader": {
          "grade": true,
          "grade_id": "cell-2b68661fd45b90f6",
          "locked": false,
          "points": 0,
          "schema_version": 3,
          "solution": true,
          "task": false
        }
      },
      "outputs": [],
      "source": [
        "# Check the number of features used by the best model\n",
        "\n",
        "# <FILL-IN WITH YOUR CODE>"
      ]
    },
    {
      "cell_type": "code",
      "execution_count": null,
      "metadata": {
        "id": "mD6ej6VPbu4L",
        "nbgrader": {
          "grade": true,
          "grade_id": "cell-c80ad5f678be804f",
          "locked": false,
          "points": 0,
          "schema_version": 3,
          "solution": true,
          "task": false
        }
      },
      "outputs": [],
      "source": [
        "# Check the feature importances\n",
        "\n",
        "# <FILL-IN WITH YOUR CODE>"
      ]
    },
    {
      "cell_type": "markdown",
      "metadata": {
        "id": "F6Srzp6Ubu4L",
        "nbgrader": {
          "grade": false,
          "grade_id": "cell-d0777fc1ab7a64af",
          "locked": true,
          "schema_version": 3,
          "solution": false,
          "task": false
        }
      },
      "source": [
        "In this case, you will probably get less performance than before (will depend on your training and test partitions), but this time our model considered much fewer features! This might not have made our model more precise (because GBTs already ignored those features), but makes it more interpretable!"
      ]
    },
    {
      "cell_type": "markdown",
      "metadata": {
        "id": "33CZbhaJbu4L",
        "nbgrader": {
          "grade": false,
          "grade_id": "cell-a7c439bf5eedb412",
          "locked": true,
          "schema_version": 3,
          "solution": false,
          "task": false
        }
      },
      "source": [
        "# 2. Challenge: Improve the model further"
      ]
    },
    {
      "cell_type": "markdown",
      "metadata": {
        "id": "ERIqDd0Zbu4L",
        "nbgrader": {
          "grade": false,
          "grade_id": "cell-ffeb040b4832b189",
          "locked": true,
          "schema_version": 3,
          "solution": false,
          "task": false
        }
      },
      "source": [
        "You have now seen how to construct a simple pipeline using Spark MLlib, and begun to investigate the results you achieved with the `GBTRegressor`.\n",
        "\n",
        "There might be many ways to improve on the results we obtained here. We provide below some ideas for you to think about, categorised by whether they relate to the data preprocessing/preparation or the regression model itself. You are welcome to explore other options instead of our suggestions if you would like!\n",
        "\n",
        "**Data preparation**:\n",
        "- We haven't really done any careful pre-processing of the data. Are there outliers or noise that might be having an impact on the results?\n",
        "- Do we need any normalization?\n",
        "- You can still try with different subsets of features. We recommend you to take a look at the original paper and borrow some ideas to improve.\n",
        "\n",
        "**Regression model**:\n",
        "- Hyper-parameter tuning: We have used a relatively small set of parameters, and we haven't investigated what happened in training and test sets; Is there overfitting of the training set? Would we be able to use a larger number of trees?\n",
        "- The features of this dataset are numerical, are there other regression models that may be more appropriate than GBTs?\n",
        "\n",
        "### Minimum expectations for the challenge\n",
        "\n",
        "You should investigate *at least one* aspect from the data preparation stage and *at least one* aspect of the regression model for improving the results. You will need to implement the appropriate pipelines in Spark MLlib to achieve this.\n",
        "\n",
        "You will also need to evaluate the success of your new pipelines, and compare their results. In the tutorial above we only used RMSE, you can consider using additional metrics as well if you would like.\n"
      ]
    },
    {
      "cell_type": "code",
      "execution_count": null,
      "metadata": {
        "id": "hF-Gj67Tnqos"
      },
      "outputs": [],
      "source": []
    },
    {
      "cell_type": "code",
      "execution_count": null,
      "metadata": {
        "id": "vprMmCefpf39"
      },
      "outputs": [],
      "source": []
    },
    {
      "cell_type": "code",
      "execution_count": null,
      "metadata": {
        "id": "u7-A1LcFpfh6"
      },
      "outputs": [],
      "source": []
    }
  ],
  "metadata": {
    "anaconda-cloud": {},
    "celltoolbar": "Create Assignment",
    "colab": {
      "include_colab_link": true,
      "provenance": [],
      "toc_visible": true
    },
    "kernelspec": {
      "display_name": "Python 3 (ipykernel)",
      "language": "python",
      "name": "python3"
    },
    "language_info": {
      "codemirror_mode": {
        "name": "ipython",
        "version": 3
      },
      "file_extension": ".py",
      "mimetype": "text/x-python",
      "name": "python",
      "nbconvert_exporter": "python",
      "pygments_lexer": "ipython3",
      "version": "3.10.6"
    },
    "name": "MLPipeline Bike Dataset",
    "notebookId": 3638908530782568
  },
  "nbformat": 4,
  "nbformat_minor": 0
}
